{
 "cells": [
  {
   "cell_type": "markdown",
   "metadata": {},
   "source": [
    "# Project: Identify Customer Segments\n",
    "\n",
    "In this project, you will apply unsupervised learning techniques to identify segments of the population that form the core customer base for a mail-order sales company in Germany. These segments can then be used to direct marketing campaigns towards audiences that will have the highest expected rate of returns. The data that you will use has been provided by our partners at Bertelsmann Arvato Analytics, and represents a real-life data science task.\n",
    "\n",
    "This notebook will help you complete this task by providing a framework within which you will perform your analysis steps. In each step of the project, you will see some text describing the subtask that you will perform, followed by one or more code cells for you to complete your work. **Feel free to add additional code and markdown cells as you go along so that you can explore everything in precise chunks.** The code cells provided in the base template will outline only the major tasks, and will usually not be enough to cover all of the minor tasks that comprise it.\n",
    "\n",
    "It should be noted that while there will be precise guidelines on how you should handle certain tasks in the project, there will also be places where an exact specification is not provided. **There will be times in the project where you will need to make and justify your own decisions on how to treat the data.** These are places where there may not be only one way to handle the data. In real-life tasks, there may be many valid ways to approach an analysis task. One of the most important things you can do is clearly document your approach so that other scientists can understand the decisions you've made.\n",
    "\n",
    "At the end of most sections, there will be a Markdown cell labeled **Discussion**. In these cells, you will report your findings for the completed section, as well as document the decisions that you made in your approach to each subtask. **Your project will be evaluated not just on the code used to complete the tasks outlined, but also your communication about your observations and conclusions at each stage.**"
   ]
  },
  {
   "cell_type": "code",
   "execution_count": 1,
   "metadata": {},
   "outputs": [
    {
     "data": {
      "text/plain": [
       "'\\nImport note: The classroom currently uses sklearn version 0.19.\\nIf you need to use an imputer, it is available in sklearn.preprocessing.Imputer,\\ninstead of sklearn.impute as in newer versions of sklearn.\\n'"
      ]
     },
     "execution_count": 1,
     "metadata": {},
     "output_type": "execute_result"
    }
   ],
   "source": [
    "# import libraries here; add more as necessary\n",
    "import numpy as np\n",
    "import pandas as pd\n",
    "import matplotlib.pyplot as plt\n",
    "import seaborn as sns\n",
    "import operator \n",
    "from sklearn.cluster import KMeans\n",
    "\n",
    "# magic word for producing visualizations in notebook\n",
    "%matplotlib inline\n",
    "\n",
    "'''\n",
    "Import note: The classroom currently uses sklearn version 0.19.\n",
    "If you need to use an imputer, it is available in sklearn.preprocessing.Imputer,\n",
    "instead of sklearn.impute as in newer versions of sklearn.\n",
    "'''"
   ]
  },
  {
   "cell_type": "markdown",
   "metadata": {},
   "source": [
    "### Step 0: Load the Data\n",
    "\n",
    "There are four files associated with this project (not including this one):\n",
    "\n",
    "- `Udacity_AZDIAS_Subset.csv`: Demographics data for the general population of Germany; 891211 persons (rows) x 85 features (columns).\n",
    "- `Udacity_CUSTOMERS_Subset.csv`: Demographics data for customers of a mail-order company; 191652 persons (rows) x 85 features (columns).\n",
    "- `Data_Dictionary.md`: Detailed information file about the features in the provided datasets.\n",
    "- `AZDIAS_Feature_Summary.csv`: Summary of feature attributes for demographics data; 85 features (rows) x 4 columns\n",
    "\n",
    "Each row of the demographics files represents a single person, but also includes information outside of individuals, including information about their household, building, and neighborhood. You will use this information to cluster the general population into groups with similar demographic properties. Then, you will see how the people in the customers dataset fit into those created clusters. The hope here is that certain clusters are over-represented in the customers data, as compared to the general population; those over-represented clusters will be assumed to be part of the core userbase. This information can then be used for further applications, such as targeting for a marketing campaign.\n",
    "\n",
    "To start off with, load in the demographics data for the general population into a pandas DataFrame, and do the same for the feature attributes summary. Note for all of the `.csv` data files in this project: they're semicolon (`;`) delimited, so you'll need an additional argument in your [`read_csv()`](https://pandas.pydata.org/pandas-docs/stable/generated/pandas.read_csv.html) call to read in the data properly. Also, considering the size of the main dataset, it may take some time for it to load completely.\n",
    "\n",
    "Once the dataset is loaded, it's recommended that you take a little bit of time just browsing the general structure of the dataset and feature summary file. You'll be getting deep into the innards of the cleaning in the first major step of the project, so gaining some general familiarity can help you get your bearings."
   ]
  },
  {
   "cell_type": "code",
   "execution_count": 2,
   "metadata": {},
   "outputs": [],
   "source": [
    "# Load in the general demographics data.\n",
    "azdias = pd.read_csv('Udacity_AZDIAS_Subset.csv', delimiter=';')\n",
    "\n",
    "# Load in the feature summary file.\n",
    "feat_info = pd.read_csv('AZDIAS_Feature_Summary.csv', delimiter=';')"
   ]
  },
  {
   "cell_type": "code",
   "execution_count": 3,
   "metadata": {},
   "outputs": [
    {
     "name": "stdout",
     "output_type": "stream",
     "text": [
      "There are 891221 rows in this data set.\n",
      "There are 85 columns in this data set.\n"
     ]
    }
   ],
   "source": [
    "# Check the structure of the data after it's loaded (e.g. print the number of\n",
    "# rows and columns, print the first few rows).\n",
    "print(f'There are {azdias.shape[0]} rows in this data set.')\n",
    "print(f'There are {azdias.shape[1]} columns in this data set.')\n",
    "\n",
    "\n"
   ]
  },
  {
   "cell_type": "code",
   "execution_count": 4,
   "metadata": {},
   "outputs": [
    {
     "data": {
      "text/html": [
       "<div>\n",
       "<style scoped>\n",
       "    .dataframe tbody tr th:only-of-type {\n",
       "        vertical-align: middle;\n",
       "    }\n",
       "\n",
       "    .dataframe tbody tr th {\n",
       "        vertical-align: top;\n",
       "    }\n",
       "\n",
       "    .dataframe thead th {\n",
       "        text-align: right;\n",
       "    }\n",
       "</style>\n",
       "<table border=\"1\" class=\"dataframe\">\n",
       "  <thead>\n",
       "    <tr style=\"text-align: right;\">\n",
       "      <th></th>\n",
       "      <th>AGER_TYP</th>\n",
       "      <th>ALTERSKATEGORIE_GROB</th>\n",
       "      <th>ANREDE_KZ</th>\n",
       "      <th>CJT_GESAMTTYP</th>\n",
       "      <th>FINANZ_MINIMALIST</th>\n",
       "      <th>FINANZ_SPARER</th>\n",
       "      <th>FINANZ_VORSORGER</th>\n",
       "      <th>FINANZ_ANLEGER</th>\n",
       "      <th>FINANZ_UNAUFFAELLIGER</th>\n",
       "      <th>FINANZ_HAUSBAUER</th>\n",
       "      <th>...</th>\n",
       "      <th>PLZ8_ANTG1</th>\n",
       "      <th>PLZ8_ANTG2</th>\n",
       "      <th>PLZ8_ANTG3</th>\n",
       "      <th>PLZ8_ANTG4</th>\n",
       "      <th>PLZ8_BAUMAX</th>\n",
       "      <th>PLZ8_HHZ</th>\n",
       "      <th>PLZ8_GBZ</th>\n",
       "      <th>ARBEIT</th>\n",
       "      <th>ORTSGR_KLS9</th>\n",
       "      <th>RELAT_AB</th>\n",
       "    </tr>\n",
       "  </thead>\n",
       "  <tbody>\n",
       "    <tr>\n",
       "      <th>0</th>\n",
       "      <td>-1</td>\n",
       "      <td>2</td>\n",
       "      <td>1</td>\n",
       "      <td>2.0</td>\n",
       "      <td>3</td>\n",
       "      <td>4</td>\n",
       "      <td>3</td>\n",
       "      <td>5</td>\n",
       "      <td>5</td>\n",
       "      <td>3</td>\n",
       "      <td>...</td>\n",
       "      <td>NaN</td>\n",
       "      <td>NaN</td>\n",
       "      <td>NaN</td>\n",
       "      <td>NaN</td>\n",
       "      <td>NaN</td>\n",
       "      <td>NaN</td>\n",
       "      <td>NaN</td>\n",
       "      <td>NaN</td>\n",
       "      <td>NaN</td>\n",
       "      <td>NaN</td>\n",
       "    </tr>\n",
       "    <tr>\n",
       "      <th>1</th>\n",
       "      <td>-1</td>\n",
       "      <td>1</td>\n",
       "      <td>2</td>\n",
       "      <td>5.0</td>\n",
       "      <td>1</td>\n",
       "      <td>5</td>\n",
       "      <td>2</td>\n",
       "      <td>5</td>\n",
       "      <td>4</td>\n",
       "      <td>5</td>\n",
       "      <td>...</td>\n",
       "      <td>2.0</td>\n",
       "      <td>3.0</td>\n",
       "      <td>2.0</td>\n",
       "      <td>1.0</td>\n",
       "      <td>1.0</td>\n",
       "      <td>5.0</td>\n",
       "      <td>4.0</td>\n",
       "      <td>3.0</td>\n",
       "      <td>5.0</td>\n",
       "      <td>4.0</td>\n",
       "    </tr>\n",
       "    <tr>\n",
       "      <th>2</th>\n",
       "      <td>-1</td>\n",
       "      <td>3</td>\n",
       "      <td>2</td>\n",
       "      <td>3.0</td>\n",
       "      <td>1</td>\n",
       "      <td>4</td>\n",
       "      <td>1</td>\n",
       "      <td>2</td>\n",
       "      <td>3</td>\n",
       "      <td>5</td>\n",
       "      <td>...</td>\n",
       "      <td>3.0</td>\n",
       "      <td>3.0</td>\n",
       "      <td>1.0</td>\n",
       "      <td>0.0</td>\n",
       "      <td>1.0</td>\n",
       "      <td>4.0</td>\n",
       "      <td>4.0</td>\n",
       "      <td>3.0</td>\n",
       "      <td>5.0</td>\n",
       "      <td>2.0</td>\n",
       "    </tr>\n",
       "    <tr>\n",
       "      <th>3</th>\n",
       "      <td>2</td>\n",
       "      <td>4</td>\n",
       "      <td>2</td>\n",
       "      <td>2.0</td>\n",
       "      <td>4</td>\n",
       "      <td>2</td>\n",
       "      <td>5</td>\n",
       "      <td>2</td>\n",
       "      <td>1</td>\n",
       "      <td>2</td>\n",
       "      <td>...</td>\n",
       "      <td>2.0</td>\n",
       "      <td>2.0</td>\n",
       "      <td>2.0</td>\n",
       "      <td>0.0</td>\n",
       "      <td>1.0</td>\n",
       "      <td>3.0</td>\n",
       "      <td>4.0</td>\n",
       "      <td>2.0</td>\n",
       "      <td>3.0</td>\n",
       "      <td>3.0</td>\n",
       "    </tr>\n",
       "    <tr>\n",
       "      <th>4</th>\n",
       "      <td>-1</td>\n",
       "      <td>3</td>\n",
       "      <td>1</td>\n",
       "      <td>5.0</td>\n",
       "      <td>4</td>\n",
       "      <td>3</td>\n",
       "      <td>4</td>\n",
       "      <td>1</td>\n",
       "      <td>3</td>\n",
       "      <td>2</td>\n",
       "      <td>...</td>\n",
       "      <td>2.0</td>\n",
       "      <td>4.0</td>\n",
       "      <td>2.0</td>\n",
       "      <td>1.0</td>\n",
       "      <td>2.0</td>\n",
       "      <td>3.0</td>\n",
       "      <td>3.0</td>\n",
       "      <td>4.0</td>\n",
       "      <td>6.0</td>\n",
       "      <td>5.0</td>\n",
       "    </tr>\n",
       "  </tbody>\n",
       "</table>\n",
       "<p>5 rows × 85 columns</p>\n",
       "</div>"
      ],
      "text/plain": [
       "   AGER_TYP  ALTERSKATEGORIE_GROB  ANREDE_KZ  CJT_GESAMTTYP  \\\n",
       "0        -1                     2          1            2.0   \n",
       "1        -1                     1          2            5.0   \n",
       "2        -1                     3          2            3.0   \n",
       "3         2                     4          2            2.0   \n",
       "4        -1                     3          1            5.0   \n",
       "\n",
       "   FINANZ_MINIMALIST  FINANZ_SPARER  FINANZ_VORSORGER  FINANZ_ANLEGER  \\\n",
       "0                  3              4                 3               5   \n",
       "1                  1              5                 2               5   \n",
       "2                  1              4                 1               2   \n",
       "3                  4              2                 5               2   \n",
       "4                  4              3                 4               1   \n",
       "\n",
       "   FINANZ_UNAUFFAELLIGER  FINANZ_HAUSBAUER    ...     PLZ8_ANTG1  PLZ8_ANTG2  \\\n",
       "0                      5                 3    ...            NaN         NaN   \n",
       "1                      4                 5    ...            2.0         3.0   \n",
       "2                      3                 5    ...            3.0         3.0   \n",
       "3                      1                 2    ...            2.0         2.0   \n",
       "4                      3                 2    ...            2.0         4.0   \n",
       "\n",
       "   PLZ8_ANTG3  PLZ8_ANTG4  PLZ8_BAUMAX  PLZ8_HHZ  PLZ8_GBZ  ARBEIT  \\\n",
       "0         NaN         NaN          NaN       NaN       NaN     NaN   \n",
       "1         2.0         1.0          1.0       5.0       4.0     3.0   \n",
       "2         1.0         0.0          1.0       4.0       4.0     3.0   \n",
       "3         2.0         0.0          1.0       3.0       4.0     2.0   \n",
       "4         2.0         1.0          2.0       3.0       3.0     4.0   \n",
       "\n",
       "   ORTSGR_KLS9  RELAT_AB  \n",
       "0          NaN       NaN  \n",
       "1          5.0       4.0  \n",
       "2          5.0       2.0  \n",
       "3          3.0       3.0  \n",
       "4          6.0       5.0  \n",
       "\n",
       "[5 rows x 85 columns]"
      ]
     },
     "execution_count": 4,
     "metadata": {},
     "output_type": "execute_result"
    }
   ],
   "source": [
    "azdias.head()"
   ]
  },
  {
   "cell_type": "markdown",
   "metadata": {},
   "source": [
    "> **Tip**: Add additional cells to keep everything in reasonably-sized chunks! Keyboard shortcut `esc --> a` (press escape to enter command mode, then press the 'A' key) adds a new cell before the active cell, and `esc --> b` adds a new cell after the active cell. If you need to convert an active cell to a markdown cell, use `esc --> m` and to convert to a code cell, use `esc --> y`. \n",
    "\n",
    "## Step 1: Preprocessing\n",
    "\n",
    "### Step 1.1: Assess Missing Data\n",
    "\n",
    "The feature summary file contains a summary of properties for each demographics data column. You will use this file to help you make cleaning decisions during this stage of the project. First of all, you should assess the demographics data in terms of missing data. Pay attention to the following points as you perform your analysis, and take notes on what you observe. Make sure that you fill in the **Discussion** cell with your findings and decisions at the end of each step that has one!\n",
    "\n",
    "#### Step 1.1.1: Convert Missing Value Codes to NaNs\n",
    "The fourth column of the feature attributes summary (loaded in above as `feat_info`) documents the codes from the data dictionary that indicate missing or unknown data. While the file encodes this as a list (e.g. `[-1,0]`), this will get read in as a string object. You'll need to do a little bit of parsing to make use of it to identify and clean the data. Convert data that matches a 'missing' or 'unknown' value code into a numpy NaN value. You might want to see how much data takes on a 'missing' or 'unknown' code, and how much data is naturally missing, as a point of interest.\n",
    "\n",
    "**As one more reminder, you are encouraged to add additional cells to break up your analysis into manageable chunks.**"
   ]
  },
  {
   "cell_type": "code",
   "execution_count": 5,
   "metadata": {},
   "outputs": [],
   "source": [
    "# Identify missing or unknown data values and convert them to NaNs.\n",
    "\n",
    "def stings_to_list(x):\n",
    "    new_list=[]\n",
    "    \n",
    "    x = x[1:-1].split(',')\n",
    "   \n",
    "    for i in x:\n",
    "        try:\n",
    "            new_list.append(int(i))\n",
    "        except:\n",
    "            new_list.append(i)\n",
    "    return new_list\n",
    "\n"
   ]
  },
  {
   "cell_type": "code",
   "execution_count": 6,
   "metadata": {},
   "outputs": [],
   "source": [
    "#adds a Na_tags column that is the stings from Missing_or_unknow and is now list. \n",
    "feat_info['NA_tags'] = feat_info['missing_or_unknown'].apply(stings_to_list)"
   ]
  },
  {
   "cell_type": "code",
   "execution_count": 7,
   "metadata": {},
   "outputs": [
    {
     "data": {
      "text/html": [
       "<div>\n",
       "<style scoped>\n",
       "    .dataframe tbody tr th:only-of-type {\n",
       "        vertical-align: middle;\n",
       "    }\n",
       "\n",
       "    .dataframe tbody tr th {\n",
       "        vertical-align: top;\n",
       "    }\n",
       "\n",
       "    .dataframe thead th {\n",
       "        text-align: right;\n",
       "    }\n",
       "</style>\n",
       "<table border=\"1\" class=\"dataframe\">\n",
       "  <thead>\n",
       "    <tr style=\"text-align: right;\">\n",
       "      <th></th>\n",
       "      <th>attribute</th>\n",
       "      <th>information_level</th>\n",
       "      <th>type</th>\n",
       "      <th>missing_or_unknown</th>\n",
       "      <th>NA_tags</th>\n",
       "    </tr>\n",
       "  </thead>\n",
       "  <tbody>\n",
       "    <tr>\n",
       "      <th>0</th>\n",
       "      <td>AGER_TYP</td>\n",
       "      <td>person</td>\n",
       "      <td>categorical</td>\n",
       "      <td>[-1,0]</td>\n",
       "      <td>[-1, 0]</td>\n",
       "    </tr>\n",
       "    <tr>\n",
       "      <th>1</th>\n",
       "      <td>ALTERSKATEGORIE_GROB</td>\n",
       "      <td>person</td>\n",
       "      <td>ordinal</td>\n",
       "      <td>[-1,0,9]</td>\n",
       "      <td>[-1, 0, 9]</td>\n",
       "    </tr>\n",
       "    <tr>\n",
       "      <th>2</th>\n",
       "      <td>ANREDE_KZ</td>\n",
       "      <td>person</td>\n",
       "      <td>categorical</td>\n",
       "      <td>[-1,0]</td>\n",
       "      <td>[-1, 0]</td>\n",
       "    </tr>\n",
       "    <tr>\n",
       "      <th>3</th>\n",
       "      <td>CJT_GESAMTTYP</td>\n",
       "      <td>person</td>\n",
       "      <td>categorical</td>\n",
       "      <td>[0]</td>\n",
       "      <td>[0]</td>\n",
       "    </tr>\n",
       "    <tr>\n",
       "      <th>4</th>\n",
       "      <td>FINANZ_MINIMALIST</td>\n",
       "      <td>person</td>\n",
       "      <td>ordinal</td>\n",
       "      <td>[-1]</td>\n",
       "      <td>[-1]</td>\n",
       "    </tr>\n",
       "  </tbody>\n",
       "</table>\n",
       "</div>"
      ],
      "text/plain": [
       "              attribute information_level         type missing_or_unknown  \\\n",
       "0              AGER_TYP            person  categorical             [-1,0]   \n",
       "1  ALTERSKATEGORIE_GROB            person      ordinal           [-1,0,9]   \n",
       "2             ANREDE_KZ            person  categorical             [-1,0]   \n",
       "3         CJT_GESAMTTYP            person  categorical                [0]   \n",
       "4     FINANZ_MINIMALIST            person      ordinal               [-1]   \n",
       "\n",
       "      NA_tags  \n",
       "0     [-1, 0]  \n",
       "1  [-1, 0, 9]  \n",
       "2     [-1, 0]  \n",
       "3         [0]  \n",
       "4        [-1]  "
      ]
     },
     "execution_count": 7,
     "metadata": {},
     "output_type": "execute_result"
    }
   ],
   "source": [
    "#checking to make sure the above worked. \n",
    "feat_info.head()"
   ]
  },
  {
   "cell_type": "code",
   "execution_count": 8,
   "metadata": {},
   "outputs": [
    {
     "data": {
      "text/html": [
       "<div>\n",
       "<style scoped>\n",
       "    .dataframe tbody tr th:only-of-type {\n",
       "        vertical-align: middle;\n",
       "    }\n",
       "\n",
       "    .dataframe tbody tr th {\n",
       "        vertical-align: top;\n",
       "    }\n",
       "\n",
       "    .dataframe thead th {\n",
       "        text-align: right;\n",
       "    }\n",
       "</style>\n",
       "<table border=\"1\" class=\"dataframe\">\n",
       "  <thead>\n",
       "    <tr style=\"text-align: right;\">\n",
       "      <th></th>\n",
       "      <th>information_level</th>\n",
       "      <th>type</th>\n",
       "      <th>missing_or_unknown</th>\n",
       "      <th>NA_tags</th>\n",
       "    </tr>\n",
       "    <tr>\n",
       "      <th>attribute</th>\n",
       "      <th></th>\n",
       "      <th></th>\n",
       "      <th></th>\n",
       "      <th></th>\n",
       "    </tr>\n",
       "  </thead>\n",
       "  <tbody>\n",
       "    <tr>\n",
       "      <th>AGER_TYP</th>\n",
       "      <td>person</td>\n",
       "      <td>categorical</td>\n",
       "      <td>[-1,0]</td>\n",
       "      <td>[-1, 0]</td>\n",
       "    </tr>\n",
       "    <tr>\n",
       "      <th>ALTERSKATEGORIE_GROB</th>\n",
       "      <td>person</td>\n",
       "      <td>ordinal</td>\n",
       "      <td>[-1,0,9]</td>\n",
       "      <td>[-1, 0, 9]</td>\n",
       "    </tr>\n",
       "    <tr>\n",
       "      <th>ANREDE_KZ</th>\n",
       "      <td>person</td>\n",
       "      <td>categorical</td>\n",
       "      <td>[-1,0]</td>\n",
       "      <td>[-1, 0]</td>\n",
       "    </tr>\n",
       "    <tr>\n",
       "      <th>CJT_GESAMTTYP</th>\n",
       "      <td>person</td>\n",
       "      <td>categorical</td>\n",
       "      <td>[0]</td>\n",
       "      <td>[0]</td>\n",
       "    </tr>\n",
       "    <tr>\n",
       "      <th>FINANZ_MINIMALIST</th>\n",
       "      <td>person</td>\n",
       "      <td>ordinal</td>\n",
       "      <td>[-1]</td>\n",
       "      <td>[-1]</td>\n",
       "    </tr>\n",
       "  </tbody>\n",
       "</table>\n",
       "</div>"
      ],
      "text/plain": [
       "                     information_level         type missing_or_unknown  \\\n",
       "attribute                                                                \n",
       "AGER_TYP                        person  categorical             [-1,0]   \n",
       "ALTERSKATEGORIE_GROB            person      ordinal           [-1,0,9]   \n",
       "ANREDE_KZ                       person  categorical             [-1,0]   \n",
       "CJT_GESAMTTYP                   person  categorical                [0]   \n",
       "FINANZ_MINIMALIST               person      ordinal               [-1]   \n",
       "\n",
       "                         NA_tags  \n",
       "attribute                         \n",
       "AGER_TYP                 [-1, 0]  \n",
       "ALTERSKATEGORIE_GROB  [-1, 0, 9]  \n",
       "ANREDE_KZ                [-1, 0]  \n",
       "CJT_GESAMTTYP                [0]  \n",
       "FINANZ_MINIMALIST           [-1]  "
      ]
     },
     "execution_count": 8,
     "metadata": {},
     "output_type": "execute_result"
    }
   ],
   "source": [
    "#setting up an index called att_index \n",
    "att_index  = feat_info.set_index('attribute')\n",
    "#Checking to make sure the att index looks as I would expect it too\n",
    "att_index.head()"
   ]
  },
  {
   "cell_type": "code",
   "execution_count": 9,
   "metadata": {},
   "outputs": [],
   "source": [
    "#making a clone of the azdias data to be able to remove set all na. \n",
    "na_azdias = azdias[:]"
   ]
  },
  {
   "cell_type": "code",
   "execution_count": 10,
   "metadata": {},
   "outputs": [
    {
     "name": "stderr",
     "output_type": "stream",
     "text": [
      "/opt/conda/lib/python3.6/site-packages/pandas/core/generic.py:5890: SettingWithCopyWarning: \n",
      "A value is trying to be set on a copy of a slice from a DataFrame\n",
      "\n",
      "See the caveats in the documentation: http://pandas.pydata.org/pandas-docs/stable/indexing.html#indexing-view-versus-copy\n",
      "  self._update_inplace(new_data)\n"
     ]
    }
   ],
   "source": [
    "#This is go through all the columns in the data set and turn them into na values \n",
    "for column in na_azdias.columns:\n",
    "    na_azdias[column].replace(att_index.loc[column].loc['NA_tags'],np.NaN,inplace=True)"
   ]
  },
  {
   "cell_type": "code",
   "execution_count": 11,
   "metadata": {},
   "outputs": [
    {
     "data": {
      "text/html": [
       "<div>\n",
       "<style scoped>\n",
       "    .dataframe tbody tr th:only-of-type {\n",
       "        vertical-align: middle;\n",
       "    }\n",
       "\n",
       "    .dataframe tbody tr th {\n",
       "        vertical-align: top;\n",
       "    }\n",
       "\n",
       "    .dataframe thead th {\n",
       "        text-align: right;\n",
       "    }\n",
       "</style>\n",
       "<table border=\"1\" class=\"dataframe\">\n",
       "  <thead>\n",
       "    <tr style=\"text-align: right;\">\n",
       "      <th></th>\n",
       "      <th>AGER_TYP</th>\n",
       "      <th>ALTERSKATEGORIE_GROB</th>\n",
       "      <th>ANREDE_KZ</th>\n",
       "      <th>CJT_GESAMTTYP</th>\n",
       "      <th>FINANZ_MINIMALIST</th>\n",
       "      <th>FINANZ_SPARER</th>\n",
       "      <th>FINANZ_VORSORGER</th>\n",
       "      <th>FINANZ_ANLEGER</th>\n",
       "      <th>FINANZ_UNAUFFAELLIGER</th>\n",
       "      <th>FINANZ_HAUSBAUER</th>\n",
       "      <th>...</th>\n",
       "      <th>PLZ8_ANTG1</th>\n",
       "      <th>PLZ8_ANTG2</th>\n",
       "      <th>PLZ8_ANTG3</th>\n",
       "      <th>PLZ8_ANTG4</th>\n",
       "      <th>PLZ8_BAUMAX</th>\n",
       "      <th>PLZ8_HHZ</th>\n",
       "      <th>PLZ8_GBZ</th>\n",
       "      <th>ARBEIT</th>\n",
       "      <th>ORTSGR_KLS9</th>\n",
       "      <th>RELAT_AB</th>\n",
       "    </tr>\n",
       "  </thead>\n",
       "  <tbody>\n",
       "    <tr>\n",
       "      <th>0</th>\n",
       "      <td>-1</td>\n",
       "      <td>2</td>\n",
       "      <td>1</td>\n",
       "      <td>2.0</td>\n",
       "      <td>3</td>\n",
       "      <td>4</td>\n",
       "      <td>3</td>\n",
       "      <td>5</td>\n",
       "      <td>5</td>\n",
       "      <td>3</td>\n",
       "      <td>...</td>\n",
       "      <td>NaN</td>\n",
       "      <td>NaN</td>\n",
       "      <td>NaN</td>\n",
       "      <td>NaN</td>\n",
       "      <td>NaN</td>\n",
       "      <td>NaN</td>\n",
       "      <td>NaN</td>\n",
       "      <td>NaN</td>\n",
       "      <td>NaN</td>\n",
       "      <td>NaN</td>\n",
       "    </tr>\n",
       "    <tr>\n",
       "      <th>1</th>\n",
       "      <td>-1</td>\n",
       "      <td>1</td>\n",
       "      <td>2</td>\n",
       "      <td>5.0</td>\n",
       "      <td>1</td>\n",
       "      <td>5</td>\n",
       "      <td>2</td>\n",
       "      <td>5</td>\n",
       "      <td>4</td>\n",
       "      <td>5</td>\n",
       "      <td>...</td>\n",
       "      <td>2.0</td>\n",
       "      <td>3.0</td>\n",
       "      <td>2.0</td>\n",
       "      <td>1.0</td>\n",
       "      <td>1.0</td>\n",
       "      <td>5.0</td>\n",
       "      <td>4.0</td>\n",
       "      <td>3.0</td>\n",
       "      <td>5.0</td>\n",
       "      <td>4.0</td>\n",
       "    </tr>\n",
       "    <tr>\n",
       "      <th>2</th>\n",
       "      <td>-1</td>\n",
       "      <td>3</td>\n",
       "      <td>2</td>\n",
       "      <td>3.0</td>\n",
       "      <td>1</td>\n",
       "      <td>4</td>\n",
       "      <td>1</td>\n",
       "      <td>2</td>\n",
       "      <td>3</td>\n",
       "      <td>5</td>\n",
       "      <td>...</td>\n",
       "      <td>3.0</td>\n",
       "      <td>3.0</td>\n",
       "      <td>1.0</td>\n",
       "      <td>0.0</td>\n",
       "      <td>1.0</td>\n",
       "      <td>4.0</td>\n",
       "      <td>4.0</td>\n",
       "      <td>3.0</td>\n",
       "      <td>5.0</td>\n",
       "      <td>2.0</td>\n",
       "    </tr>\n",
       "    <tr>\n",
       "      <th>3</th>\n",
       "      <td>2</td>\n",
       "      <td>4</td>\n",
       "      <td>2</td>\n",
       "      <td>2.0</td>\n",
       "      <td>4</td>\n",
       "      <td>2</td>\n",
       "      <td>5</td>\n",
       "      <td>2</td>\n",
       "      <td>1</td>\n",
       "      <td>2</td>\n",
       "      <td>...</td>\n",
       "      <td>2.0</td>\n",
       "      <td>2.0</td>\n",
       "      <td>2.0</td>\n",
       "      <td>0.0</td>\n",
       "      <td>1.0</td>\n",
       "      <td>3.0</td>\n",
       "      <td>4.0</td>\n",
       "      <td>2.0</td>\n",
       "      <td>3.0</td>\n",
       "      <td>3.0</td>\n",
       "    </tr>\n",
       "    <tr>\n",
       "      <th>4</th>\n",
       "      <td>-1</td>\n",
       "      <td>3</td>\n",
       "      <td>1</td>\n",
       "      <td>5.0</td>\n",
       "      <td>4</td>\n",
       "      <td>3</td>\n",
       "      <td>4</td>\n",
       "      <td>1</td>\n",
       "      <td>3</td>\n",
       "      <td>2</td>\n",
       "      <td>...</td>\n",
       "      <td>2.0</td>\n",
       "      <td>4.0</td>\n",
       "      <td>2.0</td>\n",
       "      <td>1.0</td>\n",
       "      <td>2.0</td>\n",
       "      <td>3.0</td>\n",
       "      <td>3.0</td>\n",
       "      <td>4.0</td>\n",
       "      <td>6.0</td>\n",
       "      <td>5.0</td>\n",
       "    </tr>\n",
       "  </tbody>\n",
       "</table>\n",
       "<p>5 rows × 85 columns</p>\n",
       "</div>"
      ],
      "text/plain": [
       "   AGER_TYP  ALTERSKATEGORIE_GROB  ANREDE_KZ  CJT_GESAMTTYP  \\\n",
       "0        -1                     2          1            2.0   \n",
       "1        -1                     1          2            5.0   \n",
       "2        -1                     3          2            3.0   \n",
       "3         2                     4          2            2.0   \n",
       "4        -1                     3          1            5.0   \n",
       "\n",
       "   FINANZ_MINIMALIST  FINANZ_SPARER  FINANZ_VORSORGER  FINANZ_ANLEGER  \\\n",
       "0                  3              4                 3               5   \n",
       "1                  1              5                 2               5   \n",
       "2                  1              4                 1               2   \n",
       "3                  4              2                 5               2   \n",
       "4                  4              3                 4               1   \n",
       "\n",
       "   FINANZ_UNAUFFAELLIGER  FINANZ_HAUSBAUER    ...     PLZ8_ANTG1  PLZ8_ANTG2  \\\n",
       "0                      5                 3    ...            NaN         NaN   \n",
       "1                      4                 5    ...            2.0         3.0   \n",
       "2                      3                 5    ...            3.0         3.0   \n",
       "3                      1                 2    ...            2.0         2.0   \n",
       "4                      3                 2    ...            2.0         4.0   \n",
       "\n",
       "   PLZ8_ANTG3  PLZ8_ANTG4  PLZ8_BAUMAX  PLZ8_HHZ  PLZ8_GBZ  ARBEIT  \\\n",
       "0         NaN         NaN          NaN       NaN       NaN     NaN   \n",
       "1         2.0         1.0          1.0       5.0       4.0     3.0   \n",
       "2         1.0         0.0          1.0       4.0       4.0     3.0   \n",
       "3         2.0         0.0          1.0       3.0       4.0     2.0   \n",
       "4         2.0         1.0          2.0       3.0       3.0     4.0   \n",
       "\n",
       "   ORTSGR_KLS9  RELAT_AB  \n",
       "0          NaN       NaN  \n",
       "1          5.0       4.0  \n",
       "2          5.0       2.0  \n",
       "3          3.0       3.0  \n",
       "4          6.0       5.0  \n",
       "\n",
       "[5 rows x 85 columns]"
      ]
     },
     "execution_count": 11,
     "metadata": {},
     "output_type": "execute_result"
    }
   ],
   "source": [
    "azdias.head()\n"
   ]
  },
  {
   "cell_type": "code",
   "execution_count": 12,
   "metadata": {},
   "outputs": [
    {
     "data": {
      "text/plain": [
       "8373929"
      ]
     },
     "execution_count": 12,
     "metadata": {},
     "output_type": "execute_result"
    }
   ],
   "source": [
    "#check to see how many values are null. \n",
    "na_azdias.isnull().sum().sum() "
   ]
  },
  {
   "cell_type": "markdown",
   "metadata": {},
   "source": [
    "#### Step 1.1.2: Assess Missing Data in Each Column\n",
    "\n",
    "How much missing data is present in each column? There are a few columns that are outliers in terms of the proportion of values that are missing. You will want to use matplotlib's [`hist()`](https://matplotlib.org/api/_as_gen/matplotlib.pyplot.hist.html) function to visualize the distribution of missing value counts to find these columns. Identify and document these columns. While some of these columns might have justifications for keeping or re-encoding the data, for this project you should just remove them from the dataframe. (Feel free to make remarks about these outlier columns in the discussion, however!)\n",
    "\n",
    "For the remaining features, are there any patterns in which columns have, or share, missing data?"
   ]
  },
  {
   "cell_type": "code",
   "execution_count": 13,
   "metadata": {},
   "outputs": [
    {
     "name": "stdout",
     "output_type": "stream",
     "text": [
      "AGER_TYP                 685843\n",
      "ALTERSKATEGORIE_GROB       2881\n",
      "ANREDE_KZ                     0\n",
      "CJT_GESAMTTYP              4854\n",
      "FINANZ_MINIMALIST             0\n",
      "FINANZ_SPARER                 0\n",
      "FINANZ_VORSORGER              0\n",
      "FINANZ_ANLEGER                0\n",
      "FINANZ_UNAUFFAELLIGER         0\n",
      "FINANZ_HAUSBAUER              0\n",
      "FINANZTYP                     0\n",
      "GEBURTSJAHR              392318\n",
      "GFK_URLAUBERTYP            4854\n",
      "GREEN_AVANTGARDE              0\n",
      "HEALTH_TYP               111196\n",
      "LP_LEBENSPHASE_FEIN       97632\n",
      "LP_LEBENSPHASE_GROB       94572\n",
      "LP_FAMILIE_FEIN           77792\n",
      "LP_FAMILIE_GROB           77792\n",
      "LP_STATUS_FEIN             4854\n",
      "LP_STATUS_GROB             4854\n",
      "NATIONALITAET_KZ         108315\n",
      "PRAEGENDE_JUGENDJAHRE    108164\n",
      "RETOURTYP_BK_S             4854\n",
      "SEMIO_SOZ                     0\n",
      "SEMIO_FAM                     0\n",
      "SEMIO_REL                     0\n",
      "SEMIO_MAT                     0\n",
      "SEMIO_VERT                    0\n",
      "SEMIO_LUST                    0\n",
      "                          ...  \n",
      "OST_WEST_KZ               93148\n",
      "WOHNLAGE                  93148\n",
      "CAMEO_DEUG_2015           99352\n",
      "CAMEO_DEU_2015            99352\n",
      "CAMEO_INTL_2015           99352\n",
      "KBA05_ANTG1              133324\n",
      "KBA05_ANTG2              133324\n",
      "KBA05_ANTG3              133324\n",
      "KBA05_ANTG4              133324\n",
      "KBA05_BAUMAX             476524\n",
      "KBA05_GBZ                133324\n",
      "BALLRAUM                  93740\n",
      "EWDICHTE                  93740\n",
      "INNENSTADT                93740\n",
      "GEBAEUDETYP_RASTER        93155\n",
      "KKK                      158064\n",
      "MOBI_REGIO               133324\n",
      "ONLINE_AFFINITAET          4854\n",
      "REGIOTYP                 158064\n",
      "KBA13_ANZAHL_PKW         105800\n",
      "PLZ8_ANTG1               116515\n",
      "PLZ8_ANTG2               116515\n",
      "PLZ8_ANTG3               116515\n",
      "PLZ8_ANTG4               116515\n",
      "PLZ8_BAUMAX              116515\n",
      "PLZ8_HHZ                 116515\n",
      "PLZ8_GBZ                 116515\n",
      "ARBEIT                    97375\n",
      "ORTSGR_KLS9               97274\n",
      "RELAT_AB                  97375\n",
      "Length: 85, dtype: int64\n"
     ]
    }
   ],
   "source": [
    "# Perform an assessment of how much missing data there is in each column of the\n",
    "# dataset.\n",
    "missing_data = na_azdias.isnull().sum()\n",
    "print(missing_data)\n"
   ]
  },
  {
   "cell_type": "code",
   "execution_count": 14,
   "metadata": {},
   "outputs": [],
   "source": [
    "#turn missing data into precentages\n",
    "missing_data = missing_data[missing_data > 0]/(na_azdias.shape[0]) * 100\n",
    "missing_data.sort_values(inplace=True)\n"
   ]
  },
  {
   "cell_type": "code",
   "execution_count": 15,
   "metadata": {},
   "outputs": [
    {
     "data": {
      "image/png": "[encoded data removed]",
      "text/plain": [
       "<matplotlib.figure.Figure at 0x7fd8ad1fdc18>"
      ]
     },
     "metadata": {
      "needs_background": "light"
     },
     "output_type": "display_data"
    }
   ],
   "source": [
    "# Investigate patterns in the amount of missing data in each column.\n",
    "plt.hist(missing_data, bins = 25)\n",
    "\n",
    "plt.xlabel('Percentage of missing data(%)')\n",
    "plt.ylabel('Counts')\n",
    "plt.title('Histogram of number of missing data')\n",
    "plt.grid(True)\n",
    "plt.show()\n",
    "\n",
    "\n"
   ]
  },
  {
   "cell_type": "code",
   "execution_count": 16,
   "metadata": {
    "scrolled": true
   },
   "outputs": [
    {
     "data": {
      "image/png": "[encoded data removed]",
      "text/plain": [
       "<matplotlib.figure.Figure at 0x7fd8b98e3f60>"
      ]
     },
     "metadata": {
      "needs_background": "light"
     },
     "output_type": "display_data"
    }
   ],
   "source": [
    "missing_data.plot.barh(figsize=(15,30))\n",
    "plt.xlabel('Column Names')\n",
    "plt.ylabel('Missing values')\n",
    "\n",
    "plt.show()\n"
   ]
  },
  {
   "cell_type": "code",
   "execution_count": 17,
   "metadata": {},
   "outputs": [
    {
     "name": "stdout",
     "output_type": "stream",
     "text": [
      "['AGER_TYP', 'GEBURTSJAHR', 'TITEL_KZ', 'ALTER_HH', 'KK_KUNDENTYP', 'KBA05_BAUMAX']\n"
     ]
    }
   ],
   "source": [
    "# Remove the outlier columns from the dataset. (You'll perform other data\n",
    "# engineering tasks such as re-encoding and imputation later.)\n",
    "\n",
    "#finding the values to remove:\n",
    "col_with_the_most_missing_points= [col for col in na_azdias.columns \n",
    "               if (na_azdias[col].isnull().sum()/na_azdias.shape[0])\n",
    "               * 100 > 20]\n",
    "\n",
    "print(col_with_the_most_missing_points)\n"
   ]
  },
  {
   "cell_type": "code",
   "execution_count": 18,
   "metadata": {},
   "outputs": [
    {
     "name": "stderr",
     "output_type": "stream",
     "text": [
      "/opt/conda/lib/python3.6/site-packages/pandas/core/frame.py:3697: SettingWithCopyWarning: \n",
      "A value is trying to be set on a copy of a slice from a DataFrame\n",
      "\n",
      "See the caveats in the documentation: http://pandas.pydata.org/pandas-docs/stable/indexing.html#indexing-view-versus-copy\n",
      "  errors=errors)\n"
     ]
    }
   ],
   "source": [
    "#lets remove the col. found above\n",
    "for item in col_with_the_most_missing_points:\n",
    "    na_azdias.drop(item, axis=1, inplace=True)"
   ]
  },
  {
   "cell_type": "code",
   "execution_count": 19,
   "metadata": {},
   "outputs": [
    {
     "name": "stdout",
     "output_type": "stream",
     "text": [
      "[]\n"
     ]
    }
   ],
   "source": [
    "col_with_the_most_missing_points= [col for col in na_azdias.columns \n",
    "               if (na_azdias[col].isnull().sum()/na_azdias.shape[0])\n",
    "               * 100 > 20]\n",
    "print(col_with_the_most_missing_points)"
   ]
  },
  {
   "cell_type": "markdown",
   "metadata": {},
   "source": [
    "#### Discussion 1.1.2: Assess Missing Data in Each Column\n",
    "\n",
    "Looking at the data, you can see that about 20% of the data has most of the nulls. \n",
    "You can even break it down to these 5 columns: 'AGER_TYP', 'GEBURTSJAHR', 'TITEL_KZ', 'ALTER_HH', 'KK_KUNDENTYP', 'KBA05_BAUMAX'\n",
    "As most of the null data is in such a small amount of columns, it seems best to make sure these columns don't through off our models. Thus, we removed them. "
   ]
  },
  {
   "cell_type": "markdown",
   "metadata": {},
   "source": [
    "#### Step 1.1.3: Assess Missing Data in Each Row\n",
    "\n",
    "Now, you'll perform a similar assessment for the rows of the dataset. How much data is missing in each row? As with the columns, you should see some groups of points that have a very different numbers of missing values. Divide the data into two subsets: one for data points that are above some threshold for missing values, and a second subset for points below that threshold.\n",
    "\n",
    "In order to know what to do with the outlier rows, we should see if the distribution of data values on columns that are not missing data (or are missing very little data) are similar or different between the two groups. Select at least five of these columns and compare the distribution of values.\n",
    "- You can use seaborn's [`countplot()`](https://seaborn.pydata.org/generated/seaborn.countplot.html) function to create a bar chart of code frequencies and matplotlib's [`subplot()`](https://matplotlib.org/api/_as_gen/matplotlib.pyplot.subplot.html) function to put bar charts for the two subplots side by side.\n",
    "- To reduce repeated code, you might want to write a function that can perform this comparison, taking as one of its arguments a column to be compared.\n",
    "\n",
    "Depending on what you observe in your comparison, this will have implications on how you approach your conclusions later in the analysis. If the distributions of non-missing features look similar between the data with many missing values and the data with few or no missing values, then we could argue that simply dropping those points from the analysis won't present a major issue. On the other hand, if the data with many missing values looks very different from the data with few or no missing values, then we should make a note on those data as special. We'll revisit these data later on. **Either way, you should continue your analysis for now using just the subset of the data with few or no missing values.**"
   ]
  },
  {
   "cell_type": "code",
   "execution_count": 20,
   "metadata": {},
   "outputs": [
    {
     "name": "stdout",
     "output_type": "stream",
     "text": [
      "There are 891221 rows in this data set.\n"
     ]
    }
   ],
   "source": [
    "print(f'There are {na_azdias.shape[0]} rows in this data set.')"
   ]
  },
  {
   "cell_type": "code",
   "execution_count": 21,
   "metadata": {},
   "outputs": [
    {
     "data": {
      "text/plain": [
       "643174    49\n",
       "732775    49\n",
       "472919    48\n",
       "183108    47\n",
       "139316    47\n",
       "691141    47\n",
       "691142    47\n",
       "691171    47\n",
       "691183    47\n",
       "139332    47\n",
       "691197    47\n",
       "139323    47\n",
       "691212    47\n",
       "691122    47\n",
       "139267    47\n",
       "139255    47\n",
       "139250    47\n",
       "139248    47\n",
       "139245    47\n",
       "139243    47\n",
       "691317    47\n",
       "691129    47\n",
       "691118    47\n",
       "139236    47\n",
       "139478    47\n",
       "690871    47\n",
       "690876    47\n",
       "690878    47\n",
       "690887    47\n",
       "139521    47\n",
       "          ..\n",
       "540246     0\n",
       "540244     0\n",
       "540243     0\n",
       "540242     0\n",
       "540241     0\n",
       "540240     0\n",
       "540239     0\n",
       "540269     0\n",
       "540271     0\n",
       "540300     0\n",
       "540289     0\n",
       "540299     0\n",
       "540298     0\n",
       "540296     0\n",
       "540295     0\n",
       "540293     0\n",
       "540292     0\n",
       "540291     0\n",
       "540290     0\n",
       "540287     0\n",
       "540273     0\n",
       "540286     0\n",
       "540284     0\n",
       "540283     0\n",
       "540281     0\n",
       "540280     0\n",
       "540277     0\n",
       "540275     0\n",
       "540274     0\n",
       "445610     0\n",
       "Length: 891221, dtype: int64"
      ]
     },
     "execution_count": 21,
     "metadata": {},
     "output_type": "execute_result"
    }
   ],
   "source": [
    "# How much data is missing in each row of the dataset?\n",
    "missing_rows = na_azdias.isnull().sum(axis=1)\n",
    "\n",
    "missing_rows.sort_values(ascending=False)\n",
    "\n"
   ]
  },
  {
   "cell_type": "code",
   "execution_count": 22,
   "metadata": {},
   "outputs": [],
   "source": [
    "# Write code to divide the data into two subsets based on the number of missing\n",
    "# values in each row.\n",
    "few_of_missing_values = na_azdias[na_azdias.isnull().sum(axis=1) < 15].reset_index(drop=True)\n",
    "lots_of_missing_values = na_azdias[na_azdias.isnull().sum(axis=1) >= 15].reset_index(drop=True)\n",
    "\n",
    "\n",
    "\n"
   ]
  },
  {
   "cell_type": "code",
   "execution_count": 23,
   "metadata": {},
   "outputs": [
    {
     "data": {
      "image/png": "[encoded data removed]",
      "text/plain": [
       "<matplotlib.figure.Figure at 0x7fd8ac914b70>"
      ]
     },
     "metadata": {
      "needs_background": "light"
     },
     "output_type": "display_data"
    }
   ],
   "source": [
    "# Compare the distribution of values for at least five columns where there are\n",
    "# no or few missing values, between the two subsets.\n",
    "\n",
    "plt.figure(figsize=(25,25))\n",
    "for i, column in enumerate(na_azdias.columns[:5]):\n",
    "    plt.subplot(5, 2, i+1)\n",
    "    sns.distplot(few_of_missing_values[column][few_of_missing_values[column].notnull()], label='Missing a few')\n",
    "    sns.distplot(lots_of_missing_values[column][lots_of_missing_values[column].notnull()], label='Missing many')\n",
    "    plt.title(f'Breakdown of values missing by column: {column}')\n",
    "    plt.legend();\n"
   ]
  },
  {
   "cell_type": "markdown",
   "metadata": {},
   "source": [
    "#### Discussion 1.1.3: Assess Missing Data in Each Row\n",
    "\n",
    "From the above graphs you can see that for the most point rows missing the few data points are grouped togehter, where missing many is spread out. I find that Andre_KZ has two distinct bell curves to be very intersting and would love to delve depper into that. I worry that if I drop all the rows with missing data I will effect the over all model, but I belive I can drop the rows with many misisng values and just fill in the ones with a few. "
   ]
  },
  {
   "cell_type": "code",
   "execution_count": 24,
   "metadata": {},
   "outputs": [],
   "source": [
    "na_azdias_lots_missing = na_azdias.iloc[lots_of_missing_values.index]"
   ]
  },
  {
   "cell_type": "code",
   "execution_count": 25,
   "metadata": {},
   "outputs": [
    {
     "data": {
      "text/html": [
       "<div>\n",
       "<style scoped>\n",
       "    .dataframe tbody tr th:only-of-type {\n",
       "        vertical-align: middle;\n",
       "    }\n",
       "\n",
       "    .dataframe tbody tr th {\n",
       "        vertical-align: top;\n",
       "    }\n",
       "\n",
       "    .dataframe thead th {\n",
       "        text-align: right;\n",
       "    }\n",
       "</style>\n",
       "<table border=\"1\" class=\"dataframe\">\n",
       "  <thead>\n",
       "    <tr style=\"text-align: right;\">\n",
       "      <th></th>\n",
       "      <th>ALTERSKATEGORIE_GROB</th>\n",
       "      <th>ANREDE_KZ</th>\n",
       "      <th>CJT_GESAMTTYP</th>\n",
       "      <th>FINANZ_MINIMALIST</th>\n",
       "      <th>FINANZ_SPARER</th>\n",
       "      <th>FINANZ_VORSORGER</th>\n",
       "      <th>FINANZ_ANLEGER</th>\n",
       "      <th>FINANZ_UNAUFFAELLIGER</th>\n",
       "      <th>FINANZ_HAUSBAUER</th>\n",
       "      <th>FINANZTYP</th>\n",
       "      <th>...</th>\n",
       "      <th>PLZ8_ANTG1</th>\n",
       "      <th>PLZ8_ANTG2</th>\n",
       "      <th>PLZ8_ANTG3</th>\n",
       "      <th>PLZ8_ANTG4</th>\n",
       "      <th>PLZ8_BAUMAX</th>\n",
       "      <th>PLZ8_HHZ</th>\n",
       "      <th>PLZ8_GBZ</th>\n",
       "      <th>ARBEIT</th>\n",
       "      <th>ORTSGR_KLS9</th>\n",
       "      <th>RELAT_AB</th>\n",
       "    </tr>\n",
       "  </thead>\n",
       "  <tbody>\n",
       "    <tr>\n",
       "      <th>0</th>\n",
       "      <td>2.0</td>\n",
       "      <td>1</td>\n",
       "      <td>2.0</td>\n",
       "      <td>3</td>\n",
       "      <td>4</td>\n",
       "      <td>3</td>\n",
       "      <td>5</td>\n",
       "      <td>5</td>\n",
       "      <td>3</td>\n",
       "      <td>4</td>\n",
       "      <td>...</td>\n",
       "      <td>NaN</td>\n",
       "      <td>NaN</td>\n",
       "      <td>NaN</td>\n",
       "      <td>NaN</td>\n",
       "      <td>NaN</td>\n",
       "      <td>NaN</td>\n",
       "      <td>NaN</td>\n",
       "      <td>NaN</td>\n",
       "      <td>NaN</td>\n",
       "      <td>NaN</td>\n",
       "    </tr>\n",
       "    <tr>\n",
       "      <th>1</th>\n",
       "      <td>1.0</td>\n",
       "      <td>2</td>\n",
       "      <td>5.0</td>\n",
       "      <td>1</td>\n",
       "      <td>5</td>\n",
       "      <td>2</td>\n",
       "      <td>5</td>\n",
       "      <td>4</td>\n",
       "      <td>5</td>\n",
       "      <td>1</td>\n",
       "      <td>...</td>\n",
       "      <td>2.0</td>\n",
       "      <td>3.0</td>\n",
       "      <td>2.0</td>\n",
       "      <td>1.0</td>\n",
       "      <td>1.0</td>\n",
       "      <td>5.0</td>\n",
       "      <td>4.0</td>\n",
       "      <td>3.0</td>\n",
       "      <td>5.0</td>\n",
       "      <td>4.0</td>\n",
       "    </tr>\n",
       "    <tr>\n",
       "      <th>2</th>\n",
       "      <td>3.0</td>\n",
       "      <td>2</td>\n",
       "      <td>3.0</td>\n",
       "      <td>1</td>\n",
       "      <td>4</td>\n",
       "      <td>1</td>\n",
       "      <td>2</td>\n",
       "      <td>3</td>\n",
       "      <td>5</td>\n",
       "      <td>1</td>\n",
       "      <td>...</td>\n",
       "      <td>3.0</td>\n",
       "      <td>3.0</td>\n",
       "      <td>1.0</td>\n",
       "      <td>0.0</td>\n",
       "      <td>1.0</td>\n",
       "      <td>4.0</td>\n",
       "      <td>4.0</td>\n",
       "      <td>3.0</td>\n",
       "      <td>5.0</td>\n",
       "      <td>2.0</td>\n",
       "    </tr>\n",
       "    <tr>\n",
       "      <th>3</th>\n",
       "      <td>4.0</td>\n",
       "      <td>2</td>\n",
       "      <td>2.0</td>\n",
       "      <td>4</td>\n",
       "      <td>2</td>\n",
       "      <td>5</td>\n",
       "      <td>2</td>\n",
       "      <td>1</td>\n",
       "      <td>2</td>\n",
       "      <td>6</td>\n",
       "      <td>...</td>\n",
       "      <td>2.0</td>\n",
       "      <td>2.0</td>\n",
       "      <td>2.0</td>\n",
       "      <td>0.0</td>\n",
       "      <td>1.0</td>\n",
       "      <td>3.0</td>\n",
       "      <td>4.0</td>\n",
       "      <td>2.0</td>\n",
       "      <td>3.0</td>\n",
       "      <td>3.0</td>\n",
       "    </tr>\n",
       "    <tr>\n",
       "      <th>4</th>\n",
       "      <td>3.0</td>\n",
       "      <td>1</td>\n",
       "      <td>5.0</td>\n",
       "      <td>4</td>\n",
       "      <td>3</td>\n",
       "      <td>4</td>\n",
       "      <td>1</td>\n",
       "      <td>3</td>\n",
       "      <td>2</td>\n",
       "      <td>5</td>\n",
       "      <td>...</td>\n",
       "      <td>2.0</td>\n",
       "      <td>4.0</td>\n",
       "      <td>2.0</td>\n",
       "      <td>1.0</td>\n",
       "      <td>2.0</td>\n",
       "      <td>3.0</td>\n",
       "      <td>3.0</td>\n",
       "      <td>4.0</td>\n",
       "      <td>6.0</td>\n",
       "      <td>5.0</td>\n",
       "    </tr>\n",
       "  </tbody>\n",
       "</table>\n",
       "<p>5 rows × 79 columns</p>\n",
       "</div>"
      ],
      "text/plain": [
       "   ALTERSKATEGORIE_GROB  ANREDE_KZ  CJT_GESAMTTYP  FINANZ_MINIMALIST  \\\n",
       "0                   2.0          1            2.0                  3   \n",
       "1                   1.0          2            5.0                  1   \n",
       "2                   3.0          2            3.0                  1   \n",
       "3                   4.0          2            2.0                  4   \n",
       "4                   3.0          1            5.0                  4   \n",
       "\n",
       "   FINANZ_SPARER  FINANZ_VORSORGER  FINANZ_ANLEGER  FINANZ_UNAUFFAELLIGER  \\\n",
       "0              4                 3               5                      5   \n",
       "1              5                 2               5                      4   \n",
       "2              4                 1               2                      3   \n",
       "3              2                 5               2                      1   \n",
       "4              3                 4               1                      3   \n",
       "\n",
       "   FINANZ_HAUSBAUER  FINANZTYP    ...     PLZ8_ANTG1  PLZ8_ANTG2  PLZ8_ANTG3  \\\n",
       "0                 3          4    ...            NaN         NaN         NaN   \n",
       "1                 5          1    ...            2.0         3.0         2.0   \n",
       "2                 5          1    ...            3.0         3.0         1.0   \n",
       "3                 2          6    ...            2.0         2.0         2.0   \n",
       "4                 2          5    ...            2.0         4.0         2.0   \n",
       "\n",
       "   PLZ8_ANTG4  PLZ8_BAUMAX  PLZ8_HHZ  PLZ8_GBZ  ARBEIT  ORTSGR_KLS9  RELAT_AB  \n",
       "0         NaN          NaN       NaN       NaN     NaN          NaN       NaN  \n",
       "1         1.0          1.0       5.0       4.0     3.0          5.0       4.0  \n",
       "2         0.0          1.0       4.0       4.0     3.0          5.0       2.0  \n",
       "3         0.0          1.0       3.0       4.0     2.0          3.0       3.0  \n",
       "4         1.0          2.0       3.0       3.0     4.0          6.0       5.0  \n",
       "\n",
       "[5 rows x 79 columns]"
      ]
     },
     "execution_count": 25,
     "metadata": {},
     "output_type": "execute_result"
    }
   ],
   "source": [
    "na_azdias_lots_missing.head()"
   ]
  },
  {
   "cell_type": "code",
   "execution_count": 26,
   "metadata": {},
   "outputs": [],
   "source": [
    "#filling missing values in the few missing with the mean of the value, before and after\n",
    "for col in few_of_missing_values.columns:\n",
    "    few_of_missing_values[col] = few_of_missing_values[col].interpolate(limit_direction='both')"
   ]
  },
  {
   "cell_type": "code",
   "execution_count": 27,
   "metadata": {},
   "outputs": [
    {
     "data": {
      "text/plain": [
       "ALTERSKATEGORIE_GROB        0\n",
       "ANREDE_KZ                   0\n",
       "CJT_GESAMTTYP               0\n",
       "FINANZ_MINIMALIST           0\n",
       "FINANZ_SPARER               0\n",
       "FINANZ_VORSORGER            0\n",
       "FINANZ_ANLEGER              0\n",
       "FINANZ_UNAUFFAELLIGER       0\n",
       "FINANZ_HAUSBAUER            0\n",
       "FINANZTYP                   0\n",
       "GFK_URLAUBERTYP             0\n",
       "GREEN_AVANTGARDE            0\n",
       "HEALTH_TYP                  0\n",
       "LP_LEBENSPHASE_FEIN         0\n",
       "LP_LEBENSPHASE_GROB         0\n",
       "LP_FAMILIE_FEIN             0\n",
       "LP_FAMILIE_GROB             0\n",
       "LP_STATUS_FEIN              0\n",
       "LP_STATUS_GROB              0\n",
       "NATIONALITAET_KZ            0\n",
       "PRAEGENDE_JUGENDJAHRE       0\n",
       "RETOURTYP_BK_S              0\n",
       "SEMIO_SOZ                   0\n",
       "SEMIO_FAM                   0\n",
       "SEMIO_REL                   0\n",
       "SEMIO_MAT                   0\n",
       "SEMIO_VERT                  0\n",
       "SEMIO_LUST                  0\n",
       "SEMIO_ERL                   0\n",
       "SEMIO_KULT                  0\n",
       "                         ... \n",
       "MIN_GEBAEUDEJAHR            0\n",
       "OST_WEST_KZ                 0\n",
       "WOHNLAGE                    0\n",
       "CAMEO_DEUG_2015          4308\n",
       "CAMEO_DEU_2015           4308\n",
       "CAMEO_INTL_2015          4308\n",
       "KBA05_ANTG1                 0\n",
       "KBA05_ANTG2                 0\n",
       "KBA05_ANTG3                 0\n",
       "KBA05_ANTG4                 0\n",
       "KBA05_GBZ                   0\n",
       "BALLRAUM                    0\n",
       "EWDICHTE                    0\n",
       "INNENSTADT                  0\n",
       "GEBAEUDETYP_RASTER          0\n",
       "KKK                         0\n",
       "MOBI_REGIO                  0\n",
       "ONLINE_AFFINITAET           0\n",
       "REGIOTYP                    0\n",
       "KBA13_ANZAHL_PKW            0\n",
       "PLZ8_ANTG1                  0\n",
       "PLZ8_ANTG2                  0\n",
       "PLZ8_ANTG3                  0\n",
       "PLZ8_ANTG4                  0\n",
       "PLZ8_BAUMAX                 0\n",
       "PLZ8_HHZ                    0\n",
       "PLZ8_GBZ                    0\n",
       "ARBEIT                      0\n",
       "ORTSGR_KLS9                 0\n",
       "RELAT_AB                    0\n",
       "Length: 79, dtype: int64"
      ]
     },
     "execution_count": 27,
     "metadata": {},
     "output_type": "execute_result"
    }
   ],
   "source": [
    "few_of_missing_values.isnull().sum()"
   ]
  },
  {
   "cell_type": "markdown",
   "metadata": {},
   "source": [
    "Looks like we missed some of the many missing values. Let's get a better vew. "
   ]
  },
  {
   "cell_type": "code",
   "execution_count": 28,
   "metadata": {},
   "outputs": [],
   "source": [
    "few_of_missing_values.drop(['CAMEO_DEUG_2015'], axis=1, inplace=True)\n",
    "few_of_missing_values.drop(['CAMEO_DEU_2015'], axis=1, inplace=True)\n",
    "#CAMEO_INTL\n",
    "#few_of_missing_values.drop(['CAMEO_INTL_2015'], axis=1, inplace=True)"
   ]
  },
  {
   "cell_type": "code",
   "execution_count": 29,
   "metadata": {},
   "outputs": [
    {
     "data": {
      "text/plain": [
       "4308"
      ]
     },
     "execution_count": 29,
     "metadata": {},
     "output_type": "execute_result"
    }
   ],
   "source": [
    "few_of_missing_values.isnull().sum().sum()"
   ]
  },
  {
   "cell_type": "markdown",
   "metadata": {},
   "source": [
    "### Step 1.2: Select and Re-Encode Features\n",
    "\n",
    "Checking for missing data isn't the only way in which you can prepare a dataset for analysis. Since the unsupervised learning techniques to be used will only work on data that is encoded numerically, you need to make a few encoding changes or additional assumptions to be able to make progress. In addition, while almost all of the values in the dataset are encoded using numbers, not all of them represent numeric values. Check the third column of the feature summary (`feat_info`) for a summary of types of measurement.\n",
    "- For numeric and interval data, these features can be kept without changes.\n",
    "- Most of the variables in the dataset are ordinal in nature. While ordinal values may technically be non-linear in spacing, make the simplifying assumption that the ordinal variables can be treated as being interval in nature (that is, kept without any changes).\n",
    "- Special handling may be necessary for the remaining two variable types: categorical, and 'mixed'.\n",
    "\n",
    "In the first two parts of this sub-step, you will perform an investigation of the categorical and mixed-type features and make a decision on each of them, whether you will keep, drop, or re-encode each. Then, in the last part, you will create a new data frame with only the selected and engineered columns.\n",
    "\n",
    "Data wrangling is often the trickiest part of the data analysis process, and there's a lot of it to be done here. But stick with it: once you're done with this step, you'll be ready to get to the machine learning parts of the project!"
   ]
  },
  {
   "cell_type": "code",
   "execution_count": 30,
   "metadata": {},
   "outputs": [],
   "source": [
    "# How many features are there of each data type?\n",
    "#First lets recall the names for the feat_info columns:\n",
    "feat_info.set_index('attribute', inplace=True)\n"
   ]
  },
  {
   "cell_type": "code",
   "execution_count": 31,
   "metadata": {
    "scrolled": true
   },
   "outputs": [
    {
     "data": {
      "text/html": [
       "<div>\n",
       "<style scoped>\n",
       "    .dataframe tbody tr th:only-of-type {\n",
       "        vertical-align: middle;\n",
       "    }\n",
       "\n",
       "    .dataframe tbody tr th {\n",
       "        vertical-align: top;\n",
       "    }\n",
       "\n",
       "    .dataframe thead th {\n",
       "        text-align: right;\n",
       "    }\n",
       "</style>\n",
       "<table border=\"1\" class=\"dataframe\">\n",
       "  <thead>\n",
       "    <tr style=\"text-align: right;\">\n",
       "      <th></th>\n",
       "      <th>information_level</th>\n",
       "      <th>type</th>\n",
       "      <th>missing_or_unknown</th>\n",
       "      <th>NA_tags</th>\n",
       "    </tr>\n",
       "    <tr>\n",
       "      <th>attribute</th>\n",
       "      <th></th>\n",
       "      <th></th>\n",
       "      <th></th>\n",
       "      <th></th>\n",
       "    </tr>\n",
       "  </thead>\n",
       "  <tbody>\n",
       "    <tr>\n",
       "      <th>AGER_TYP</th>\n",
       "      <td>person</td>\n",
       "      <td>categorical</td>\n",
       "      <td>[-1,0]</td>\n",
       "      <td>[-1, 0]</td>\n",
       "    </tr>\n",
       "    <tr>\n",
       "      <th>ALTERSKATEGORIE_GROB</th>\n",
       "      <td>person</td>\n",
       "      <td>ordinal</td>\n",
       "      <td>[-1,0,9]</td>\n",
       "      <td>[-1, 0, 9]</td>\n",
       "    </tr>\n",
       "    <tr>\n",
       "      <th>ANREDE_KZ</th>\n",
       "      <td>person</td>\n",
       "      <td>categorical</td>\n",
       "      <td>[-1,0]</td>\n",
       "      <td>[-1, 0]</td>\n",
       "    </tr>\n",
       "    <tr>\n",
       "      <th>CJT_GESAMTTYP</th>\n",
       "      <td>person</td>\n",
       "      <td>categorical</td>\n",
       "      <td>[0]</td>\n",
       "      <td>[0]</td>\n",
       "    </tr>\n",
       "    <tr>\n",
       "      <th>FINANZ_MINIMALIST</th>\n",
       "      <td>person</td>\n",
       "      <td>ordinal</td>\n",
       "      <td>[-1]</td>\n",
       "      <td>[-1]</td>\n",
       "    </tr>\n",
       "  </tbody>\n",
       "</table>\n",
       "</div>"
      ],
      "text/plain": [
       "                     information_level         type missing_or_unknown  \\\n",
       "attribute                                                                \n",
       "AGER_TYP                        person  categorical             [-1,0]   \n",
       "ALTERSKATEGORIE_GROB            person      ordinal           [-1,0,9]   \n",
       "ANREDE_KZ                       person  categorical             [-1,0]   \n",
       "CJT_GESAMTTYP                   person  categorical                [0]   \n",
       "FINANZ_MINIMALIST               person      ordinal               [-1]   \n",
       "\n",
       "                         NA_tags  \n",
       "attribute                         \n",
       "AGER_TYP                 [-1, 0]  \n",
       "ALTERSKATEGORIE_GROB  [-1, 0, 9]  \n",
       "ANREDE_KZ                [-1, 0]  \n",
       "CJT_GESAMTTYP                [0]  \n",
       "FINANZ_MINIMALIST           [-1]  "
      ]
     },
     "execution_count": 31,
     "metadata": {},
     "output_type": "execute_result"
    }
   ],
   "source": [
    "feat_info.head()"
   ]
  },
  {
   "cell_type": "code",
   "execution_count": 32,
   "metadata": {},
   "outputs": [
    {
     "data": {
      "text/plain": [
       "ordinal        49\n",
       "categorical    21\n",
       "mixed           7\n",
       "numeric         7\n",
       "interval        1\n",
       "Name: type, dtype: int64"
      ]
     },
     "execution_count": 32,
     "metadata": {},
     "output_type": "execute_result"
    }
   ],
   "source": [
    "#Okay, now lets figure out how many data types there  are in the type column. \n",
    "feat_info['type'].value_counts() "
   ]
  },
  {
   "cell_type": "markdown",
   "metadata": {},
   "source": [
    "#### Step 1.2.1: Re-Encode Categorical Features\n",
    "\n",
    "For categorical data, you would ordinarily need to encode the levels as dummy variables. Depending on the number of categories, perform one of the following:\n",
    "- For binary (two-level) categoricals that take numeric values, you can keep them without needing to do anything.\n",
    "- There is one binary variable that takes on non-numeric values. For this one, you need to re-encode the values as numbers or create a dummy variable.\n",
    "- For multi-level categoricals (three or more values), you can choose to encode the values using multiple dummy variables (e.g. via [OneHotEncoder](http://scikit-learn.org/stable/modules/generated/sklearn.preprocessing.OneHotEncoder.html)), or (to keep things straightforward) just drop them from the analysis. As always, document your choices in the Discussion section."
   ]
  },
  {
   "cell_type": "code",
   "execution_count": 33,
   "metadata": {},
   "outputs": [
    {
     "data": {
      "text/plain": [
       "ALTERSKATEGORIE_GROB     float64\n",
       "ANREDE_KZ                  int64\n",
       "CJT_GESAMTTYP            float64\n",
       "FINANZ_MINIMALIST          int64\n",
       "FINANZ_SPARER              int64\n",
       "FINANZ_VORSORGER           int64\n",
       "FINANZ_ANLEGER             int64\n",
       "FINANZ_UNAUFFAELLIGER      int64\n",
       "FINANZ_HAUSBAUER           int64\n",
       "FINANZTYP                  int64\n",
       "GFK_URLAUBERTYP          float64\n",
       "GREEN_AVANTGARDE           int64\n",
       "HEALTH_TYP               float64\n",
       "LP_LEBENSPHASE_FEIN      float64\n",
       "LP_LEBENSPHASE_GROB      float64\n",
       "LP_FAMILIE_FEIN          float64\n",
       "LP_FAMILIE_GROB          float64\n",
       "LP_STATUS_FEIN           float64\n",
       "LP_STATUS_GROB           float64\n",
       "NATIONALITAET_KZ         float64\n",
       "PRAEGENDE_JUGENDJAHRE    float64\n",
       "RETOURTYP_BK_S           float64\n",
       "SEMIO_SOZ                  int64\n",
       "SEMIO_FAM                  int64\n",
       "SEMIO_REL                  int64\n",
       "SEMIO_MAT                  int64\n",
       "SEMIO_VERT                 int64\n",
       "SEMIO_LUST                 int64\n",
       "SEMIO_ERL                  int64\n",
       "SEMIO_KULT                 int64\n",
       "                          ...   \n",
       "GEBAEUDETYP              float64\n",
       "KONSUMNAEHE              float64\n",
       "MIN_GEBAEUDEJAHR         float64\n",
       "OST_WEST_KZ               object\n",
       "WOHNLAGE                 float64\n",
       "CAMEO_INTL_2015           object\n",
       "KBA05_ANTG1              float64\n",
       "KBA05_ANTG2              float64\n",
       "KBA05_ANTG3              float64\n",
       "KBA05_ANTG4              float64\n",
       "KBA05_GBZ                float64\n",
       "BALLRAUM                 float64\n",
       "EWDICHTE                 float64\n",
       "INNENSTADT               float64\n",
       "GEBAEUDETYP_RASTER       float64\n",
       "KKK                      float64\n",
       "MOBI_REGIO               float64\n",
       "ONLINE_AFFINITAET        float64\n",
       "REGIOTYP                 float64\n",
       "KBA13_ANZAHL_PKW         float64\n",
       "PLZ8_ANTG1               float64\n",
       "PLZ8_ANTG2               float64\n",
       "PLZ8_ANTG3               float64\n",
       "PLZ8_ANTG4               float64\n",
       "PLZ8_BAUMAX              float64\n",
       "PLZ8_HHZ                 float64\n",
       "PLZ8_GBZ                 float64\n",
       "ARBEIT                   float64\n",
       "ORTSGR_KLS9              float64\n",
       "RELAT_AB                 float64\n",
       "Length: 77, dtype: object"
      ]
     },
     "execution_count": 33,
     "metadata": {},
     "output_type": "execute_result"
    }
   ],
   "source": [
    "few_of_missing_values.dtypes"
   ]
  },
  {
   "cell_type": "code",
   "execution_count": 34,
   "metadata": {},
   "outputs": [
    {
     "name": "stdout",
     "output_type": "stream",
     "text": [
      "['CJT_GESAMTTYP', 'FINANZTYP', 'GFK_URLAUBERTYP', 'LP_FAMILIE_FEIN', 'LP_FAMILIE_GROB', 'LP_STATUS_FEIN', 'LP_STATUS_GROB', 'NATIONALITAET_KZ', 'SHOPPER_TYP', 'VERS_TYP', 'ZABEOTYP', 'GEBAEUDETYP']\n"
     ]
    }
   ],
   "source": [
    "# Assess categorical variables: which are binary, which are multi-level, and\n",
    "# which one needs to be re-encoded?\n",
    "#which are none binary - As we can keep the binary values, this will be the list that we need to encode\n",
    "none_binary = []\n",
    "\n",
    "for col in few_of_missing_values.columns:\n",
    "    if feat_info.loc[col].type == 'categorical'and len(few_of_missing_values[col].unique()) > 2:\n",
    "        none_binary.append(col)\n",
    "\n",
    "print(none_binary) \n",
    "\n"
   ]
  },
  {
   "cell_type": "code",
   "execution_count": 35,
   "metadata": {},
   "outputs": [
    {
     "name": "stdout",
     "output_type": "stream",
     "text": [
      "0         2\n",
      "1         2\n",
      "2         2\n",
      "3         1\n",
      "4         2\n",
      "5         2\n",
      "6         1\n",
      "7         1\n",
      "8         2\n",
      "9         2\n",
      "10        1\n",
      "11        2\n",
      "12        2\n",
      "13        2\n",
      "14        2\n",
      "15        1\n",
      "16        2\n",
      "17        1\n",
      "18        1\n",
      "19        1\n",
      "20        1\n",
      "21        1\n",
      "22        1\n",
      "23        2\n",
      "24        2\n",
      "25        1\n",
      "26        2\n",
      "27        2\n",
      "28        2\n",
      "29        1\n",
      "         ..\n",
      "787514    2\n",
      "787515    2\n",
      "787516    1\n",
      "787517    1\n",
      "787518    2\n",
      "787519    2\n",
      "787520    2\n",
      "787521    1\n",
      "787522    1\n",
      "787523    2\n",
      "787524    1\n",
      "787525    2\n",
      "787526    2\n",
      "787527    1\n",
      "787528    1\n",
      "787529    2\n",
      "787530    2\n",
      "787531    1\n",
      "787532    2\n",
      "787533    1\n",
      "787534    1\n",
      "787535    1\n",
      "787536    2\n",
      "787537    2\n",
      "787538    2\n",
      "787539    2\n",
      "787540    1\n",
      "787541    2\n",
      "787542    1\n",
      "787543    1\n",
      "Name: ANREDE_KZ, Length: 787544, dtype: int64\n",
      "0         0\n",
      "1         1\n",
      "2         0\n",
      "3         0\n",
      "4         0\n",
      "5         0\n",
      "6         0\n",
      "7         1\n",
      "8         1\n",
      "9         0\n",
      "10        0\n",
      "11        1\n",
      "12        0\n",
      "13        0\n",
      "14        0\n",
      "15        1\n",
      "16        1\n",
      "17        0\n",
      "18        0\n",
      "19        1\n",
      "20        0\n",
      "21        1\n",
      "22        0\n",
      "23        1\n",
      "24        0\n",
      "25        1\n",
      "26        0\n",
      "27        1\n",
      "28        0\n",
      "29        0\n",
      "         ..\n",
      "787514    0\n",
      "787515    0\n",
      "787516    0\n",
      "787517    1\n",
      "787518    0\n",
      "787519    0\n",
      "787520    1\n",
      "787521    1\n",
      "787522    0\n",
      "787523    0\n",
      "787524    0\n",
      "787525    0\n",
      "787526    0\n",
      "787527    0\n",
      "787528    0\n",
      "787529    0\n",
      "787530    1\n",
      "787531    0\n",
      "787532    0\n",
      "787533    0\n",
      "787534    0\n",
      "787535    0\n",
      "787536    1\n",
      "787537    0\n",
      "787538    0\n",
      "787539    0\n",
      "787540    0\n",
      "787541    0\n",
      "787542    0\n",
      "787543    0\n",
      "Name: GREEN_AVANTGARDE, Length: 787544, dtype: int64\n",
      "0         1.0\n",
      "1         0.0\n",
      "2         0.0\n",
      "3         0.0\n",
      "4         0.0\n",
      "5         0.0\n",
      "6         0.0\n",
      "7         0.0\n",
      "8         0.0\n",
      "9         0.0\n",
      "10        0.0\n",
      "11        0.0\n",
      "12        0.0\n",
      "13        0.0\n",
      "14        0.0\n",
      "15        0.0\n",
      "16        0.0\n",
      "17        0.0\n",
      "18        0.0\n",
      "19        0.0\n",
      "20        0.0\n",
      "21        0.0\n",
      "22        0.0\n",
      "23        0.0\n",
      "24        0.0\n",
      "25        0.0\n",
      "26        0.0\n",
      "27        0.0\n",
      "28        0.0\n",
      "29        0.0\n",
      "         ... \n",
      "787514    0.0\n",
      "787515    0.0\n",
      "787516    0.0\n",
      "787517    0.0\n",
      "787518    0.0\n",
      "787519    0.0\n",
      "787520    0.0\n",
      "787521    0.0\n",
      "787522    0.0\n",
      "787523    0.0\n",
      "787524    0.0\n",
      "787525    0.0\n",
      "787526    0.0\n",
      "787527    0.0\n",
      "787528    0.0\n",
      "787529    0.0\n",
      "787530    0.0\n",
      "787531    0.0\n",
      "787532    0.0\n",
      "787533    0.0\n",
      "787534    0.0\n",
      "787535    0.0\n",
      "787536    0.0\n",
      "787537    0.0\n",
      "787538    0.0\n",
      "787539    0.0\n",
      "787540    0.0\n",
      "787541    0.0\n",
      "787542    0.0\n",
      "787543    0.0\n",
      "Name: SOHO_KZ, Length: 787544, dtype: float64\n",
      "0         W\n",
      "1         W\n",
      "2         W\n",
      "3         W\n",
      "4         W\n",
      "5         W\n",
      "6         W\n",
      "7         W\n",
      "8         W\n",
      "9         W\n",
      "10        W\n",
      "11        W\n",
      "12        W\n",
      "13        W\n",
      "14        W\n",
      "15        W\n",
      "16        W\n",
      "17        W\n",
      "18        W\n",
      "19        W\n",
      "20        W\n",
      "21        W\n",
      "22        W\n",
      "23        W\n",
      "24        W\n",
      "25        W\n",
      "26        W\n",
      "27        W\n",
      "28        W\n",
      "29        W\n",
      "         ..\n",
      "787514    W\n",
      "787515    W\n",
      "787516    W\n",
      "787517    W\n",
      "787518    W\n",
      "787519    W\n",
      "787520    W\n",
      "787521    W\n",
      "787522    W\n",
      "787523    W\n",
      "787524    W\n",
      "787525    W\n",
      "787526    W\n",
      "787527    W\n",
      "787528    W\n",
      "787529    W\n",
      "787530    W\n",
      "787531    W\n",
      "787532    W\n",
      "787533    W\n",
      "787534    W\n",
      "787535    W\n",
      "787536    W\n",
      "787537    W\n",
      "787538    W\n",
      "787539    W\n",
      "787540    W\n",
      "787541    W\n",
      "787542    W\n",
      "787543    W\n",
      "Name: OST_WEST_KZ, Length: 787544, dtype: object\n"
     ]
    }
   ],
   "source": [
    "binary = []\n",
    "for col in few_of_missing_values.columns:\n",
    "    if feat_info.loc[col].type == 'categorical'and len(few_of_missing_values[col].unique()) <= 2:\n",
    "        binary.append(col)\n",
    "for item in binary:\n",
    "    print(few_of_missing_values[item])"
   ]
  },
  {
   "cell_type": "markdown",
   "metadata": {},
   "source": [
    "When looking through the values, I found the one type that is not numeric OST_WEST_KZ. \n",
    "As the models will not know what to do with W we should encoded it. Looking at the data dictionary you can see that W stands for West and 0 Stands for East. So I don't think it will mater what value is 0 and which one is 1. "
   ]
  },
  {
   "cell_type": "code",
   "execution_count": 36,
   "metadata": {},
   "outputs": [],
   "source": [
    "few_of_missing_values.loc[:, 'OST_WEST_KZ'].replace({'W':0, 'O':1}, inplace=True)"
   ]
  },
  {
   "cell_type": "code",
   "execution_count": 37,
   "metadata": {},
   "outputs": [
    {
     "data": {
      "text/plain": [
       "0         0\n",
       "1         0\n",
       "2         0\n",
       "3         0\n",
       "4         0\n",
       "5         0\n",
       "6         0\n",
       "7         0\n",
       "8         0\n",
       "9         0\n",
       "10        0\n",
       "11        0\n",
       "12        0\n",
       "13        0\n",
       "14        0\n",
       "15        0\n",
       "16        0\n",
       "17        0\n",
       "18        0\n",
       "19        0\n",
       "20        0\n",
       "21        0\n",
       "22        0\n",
       "23        0\n",
       "24        0\n",
       "25        0\n",
       "26        0\n",
       "27        0\n",
       "28        0\n",
       "29        0\n",
       "         ..\n",
       "787514    0\n",
       "787515    0\n",
       "787516    0\n",
       "787517    0\n",
       "787518    0\n",
       "787519    0\n",
       "787520    0\n",
       "787521    0\n",
       "787522    0\n",
       "787523    0\n",
       "787524    0\n",
       "787525    0\n",
       "787526    0\n",
       "787527    0\n",
       "787528    0\n",
       "787529    0\n",
       "787530    0\n",
       "787531    0\n",
       "787532    0\n",
       "787533    0\n",
       "787534    0\n",
       "787535    0\n",
       "787536    0\n",
       "787537    0\n",
       "787538    0\n",
       "787539    0\n",
       "787540    0\n",
       "787541    0\n",
       "787542    0\n",
       "787543    0\n",
       "Name: OST_WEST_KZ, Length: 787544, dtype: int64"
      ]
     },
     "execution_count": 37,
     "metadata": {},
     "output_type": "execute_result"
    }
   ],
   "source": [
    "few_of_missing_values['OST_WEST_KZ']"
   ]
  },
  {
   "cell_type": "markdown",
   "metadata": {},
   "source": [
    "I found the FINANZTYP to be an intersesting catigory. Most descriptive financial type for individual. Let's make sure that it is correctly encoded. \n"
   ]
  },
  {
   "cell_type": "code",
   "execution_count": 38,
   "metadata": {},
   "outputs": [
    {
     "data": {
      "text/plain": [
       "6    288034\n",
       "1    194408\n",
       "5    105447\n",
       "2    103343\n",
       "4     55468\n",
       "3     40844\n",
       "Name: FINANZTYP, dtype: int64"
      ]
     },
     "execution_count": 38,
     "metadata": {},
     "output_type": "execute_result"
    }
   ],
   "source": [
    "# Re-encode categorical variable(s) to be kept in the analysis.\n",
    "few_of_missing_values['FINANZTYP'].value_counts()\n",
    "\n"
   ]
  },
  {
   "cell_type": "markdown",
   "metadata": {},
   "source": [
    "Okay, FINANZTYP looks good, but I don't want a bad value to come through and I don't want to check one by one, so lets check them all at once. "
   ]
  },
  {
   "cell_type": "code",
   "execution_count": 39,
   "metadata": {},
   "outputs": [
    {
     "name": "stdout",
     "output_type": "stream",
     "text": [
      "4.000000    196143\n",
      "3.000000    145717\n",
      "2.000000    140731\n",
      "5.000000    110489\n",
      "6.000000    100084\n",
      "1.000000     92288\n",
      "3.500000       730\n",
      "2.500000       536\n",
      "4.500000       474\n",
      "1.500000       192\n",
      "5.500000       128\n",
      "4.666667         5\n",
      "3.666667         4\n",
      "3.333333         3\n",
      "4.333333         3\n",
      "5.333333         3\n",
      "2.666667         3\n",
      "2.333333         3\n",
      "2.333333         2\n",
      "3.333333         2\n",
      "1.666667         2\n",
      "4.666667         1\n",
      "2.666667         1\n",
      "Name: CJT_GESAMTTYP, dtype: int64\n",
      "6    288034\n",
      "1    194408\n",
      "5    105447\n",
      "2    103343\n",
      "4     55468\n",
      "3     40844\n",
      "Name: FINANZTYP, dtype: int64\n",
      "12.000000    127504\n",
      "10.000000    102201\n",
      "8.000000      82656\n",
      "11.000000     74568\n",
      "5.000000      70368\n",
      "4.000000      60473\n",
      "9.000000      56465\n",
      "3.000000      53138\n",
      "1.000000      50436\n",
      "2.000000      41068\n",
      "7.000000      40701\n",
      "6.000000      25901\n",
      "7.500000        326\n",
      "6.500000        319\n",
      "8.500000        267\n",
      "9.500000        216\n",
      "5.500000        216\n",
      "10.500000       186\n",
      "4.500000        170\n",
      "11.500000       131\n",
      "3.500000         94\n",
      "2.500000         83\n",
      "1.500000         21\n",
      "9.333333          4\n",
      "11.333333         4\n",
      "10.666667         4\n",
      "8.666667          3\n",
      "6.666667          2\n",
      "5.333333          2\n",
      "6.333333          2\n",
      "9.666667          2\n",
      "7.333333          1\n",
      "7.666667          1\n",
      "8.333333          1\n",
      "6.666667          1\n",
      "5.666667          1\n",
      "3.250000          1\n",
      "3.750000          1\n",
      "3.666667          1\n",
      "3.333333          1\n",
      "11.666667         1\n",
      "10.333333         1\n",
      "9.333333          1\n",
      "4.666667          1\n",
      "Name: GFK_URLAUBERTYP, dtype: int64\n",
      "1.000000     406732\n",
      "10.000000    128773\n",
      "2.000000      97733\n",
      "11.000000     48530\n",
      "8.000000      21743\n",
      "7.000000      19453\n",
      "4.000000      12400\n",
      "5.000000      11741\n",
      "6.000000      11105\n",
      "9.000000      10723\n",
      "3.000000       5083\n",
      "5.500000       4955\n",
      "1.500000       3704\n",
      "4.500000       1076\n",
      "10.500000       614\n",
      "6.500000        551\n",
      "2.500000        482\n",
      "3.500000        426\n",
      "8.500000        305\n",
      "7.500000        247\n",
      "9.500000        230\n",
      "1.666667        101\n",
      "1.333333         98\n",
      "1.666667         77\n",
      "1.333333         72\n",
      "4.333333         49\n",
      "7.666667         39\n",
      "4.333333         36\n",
      "7.666667         32\n",
      "4.666667         32\n",
      "              ...  \n",
      "9.333333         17\n",
      "5.666667         17\n",
      "3.666667         17\n",
      "8.666667         16\n",
      "7.750000         13\n",
      "3.250000         13\n",
      "5.666667         12\n",
      "2.333333         12\n",
      "6.333333         12\n",
      "9.666667         11\n",
      "2.333333         11\n",
      "2.666667         10\n",
      "8.333333          9\n",
      "2.666667          7\n",
      "6.666667          7\n",
      "5.333333          7\n",
      "6.333333          6\n",
      "6.250000          4\n",
      "6.666667          4\n",
      "2.750000          4\n",
      "1.750000          3\n",
      "5.333333          3\n",
      "1.250000          3\n",
      "8.750000          2\n",
      "4.250000          2\n",
      "6.166667          1\n",
      "2.250000          1\n",
      "4.750000          1\n",
      "2.833333          1\n",
      "8.333333          1\n",
      "Name: LP_FAMILIE_FEIN, Length: 68, dtype: int64\n",
      "1.000000    406732\n",
      "5.000000    188438\n",
      "2.000000     98692\n",
      "4.000000     49271\n",
      "3.000000     34682\n",
      "1.500000      3705\n",
      "2.500000      2096\n",
      "3.500000      1862\n",
      "4.500000       900\n",
      "2.333333       175\n",
      "3.666667       152\n",
      "2.333333       147\n",
      "3.666667       143\n",
      "1.666667       114\n",
      "1.333333        98\n",
      "1.666667        90\n",
      "1.333333        72\n",
      "4.333333        56\n",
      "4.666667        43\n",
      "3.333333        18\n",
      "2.666667        15\n",
      "2.666667        13\n",
      "1.750000         7\n",
      "2.750000         5\n",
      "4.250000         5\n",
      "3.250000         4\n",
      "3.333333         4\n",
      "1.250000         3\n",
      "4.750000         1\n",
      "2.250000         1\n",
      "Name: LP_FAMILIE_GROB, dtype: int64\n",
      "1.000000     206023\n",
      "9.000000     133290\n",
      "2.000000     110769\n",
      "10.000000    110556\n",
      "4.000000      73761\n",
      "3.000000      68865\n",
      "6.000000      28743\n",
      "5.000000      27219\n",
      "8.000000      16921\n",
      "7.000000       9284\n",
      "5.500000        459\n",
      "1.500000        330\n",
      "2.500000        325\n",
      "9.500000        248\n",
      "6.500000        242\n",
      "3.500000        181\n",
      "7.500000        130\n",
      "4.500000        105\n",
      "8.500000         51\n",
      "3.666667          4\n",
      "1.666667          4\n",
      "6.333333          3\n",
      "1.333333          3\n",
      "7.333333          2\n",
      "4.333333          2\n",
      "4.666667          2\n",
      "8.666667          2\n",
      "2.333333          2\n",
      "2.333333          2\n",
      "6.666667          2\n",
      "1.666667          2\n",
      "4.666667          1\n",
      "3.333333          1\n",
      "7.333333          1\n",
      "2.666667          1\n",
      "3.333333          1\n",
      "1.333333          1\n",
      "6.666667          1\n",
      "4.333333          1\n",
      "7.750000          1\n",
      "5.666667          1\n",
      "3.250000          1\n",
      "8.333333          1\n",
      "Name: LP_STATUS_FEIN, dtype: int64\n",
      "1.000000    316915\n",
      "2.000000    169439\n",
      "4.000000    150214\n",
      "5.000000    110556\n",
      "3.000000     38332\n",
      "1.500000       744\n",
      "2.500000       680\n",
      "3.500000       358\n",
      "4.500000       280\n",
      "2.333333         5\n",
      "1.666667         4\n",
      "3.666667         4\n",
      "1.333333         3\n",
      "3.666667         3\n",
      "1.333333         2\n",
      "1.666667         2\n",
      "4.333333         2\n",
      "2.333333         1\n",
      "Name: LP_STATUS_GROB, dtype: int64\n",
      "1.000000    684174\n",
      "2.000000     65508\n",
      "3.000000     32183\n",
      "1.500000      4745\n",
      "2.500000       266\n",
      "1.666667       166\n",
      "1.666667       144\n",
      "1.333333       110\n",
      "1.333333       109\n",
      "2.333333        70\n",
      "2.333333        35\n",
      "2.666667        14\n",
      "1.250000         8\n",
      "1.750000         8\n",
      "1.166667         1\n",
      "2.750000         1\n",
      "1.833333         1\n",
      "2.250000         1\n",
      "Name: NATIONALITAET_KZ, dtype: int64\n",
      "1.000000    250499\n",
      "2.000000    212907\n",
      "3.000000    178235\n",
      "0.000000    127863\n",
      "1.500000      8229\n",
      "2.500000      4226\n",
      "0.500000      3413\n",
      "2.333333       313\n",
      "1.666667       270\n",
      "1.666667       245\n",
      "1.333333       220\n",
      "2.666667       203\n",
      "1.333333       203\n",
      "0.666667       171\n",
      "0.666667       155\n",
      "2.333333       124\n",
      "0.333333        98\n",
      "0.333333        86\n",
      "1.250000        18\n",
      "1.750000        18\n",
      "2.250000        15\n",
      "0.750000        14\n",
      "2.750000        10\n",
      "0.250000         9\n",
      "Name: SHOPPER_TYP, dtype: int64\n",
      "2.000000    402070\n",
      "1.000000    367650\n",
      "1.500000     16098\n",
      "1.333333       411\n",
      "1.666667       411\n",
      "1.333333       409\n",
      "1.666667       409\n",
      "1.750000        42\n",
      "1.250000        42\n",
      "1.166667         1\n",
      "1.833333         1\n",
      "Name: VERS_TYP, dtype: int64\n",
      "3    279067\n",
      "4    205709\n",
      "1    120984\n",
      "5     80131\n",
      "6     70279\n",
      "2     31374\n",
      "Name: ZABEOTYP, dtype: int64\n",
      "1.0    452468\n",
      "3.0    177030\n",
      "8.0    151958\n",
      "2.0      4624\n",
      "4.0       870\n",
      "6.0       593\n",
      "5.0         1\n",
      "Name: GEBAEUDETYP, dtype: int64\n"
     ]
    }
   ],
   "source": [
    "for item in none_binary:\n",
    "    print(few_of_missing_values[item].value_counts())"
   ]
  },
  {
   "cell_type": "markdown",
   "metadata": {},
   "source": [
    "Now that we have a list of columns that could use some re-encoding we need to fix this. "
   ]
  },
  {
   "cell_type": "code",
   "execution_count": 40,
   "metadata": {},
   "outputs": [],
   "source": [
    "non_binary_needs_to_be_reencoding = ['GFK_URLAUBERTYP','LP_FAMILIE_FEIN','LP_FAMILIE_GROB','LP_STATUS_FEIN',\n",
    "                                    'LP_STATUS_GROB','NATIONALITAET_KZ','SHOPPER_TYP']\n",
    "\n",
    "for item in non_binary_needs_to_be_reencoding:\n",
    "    few_of_missing_values[item] = round(few_of_missing_values[item],0)"
   ]
  },
  {
   "cell_type": "code",
   "execution_count": 41,
   "metadata": {},
   "outputs": [
    {
     "name": "stdout",
     "output_type": "stream",
     "text": [
      "4.000000    196143\n",
      "3.000000    145717\n",
      "2.000000    140731\n",
      "5.000000    110489\n",
      "6.000000    100084\n",
      "1.000000     92288\n",
      "3.500000       730\n",
      "2.500000       536\n",
      "4.500000       474\n",
      "1.500000       192\n",
      "5.500000       128\n",
      "4.666667         5\n",
      "3.666667         4\n",
      "3.333333         3\n",
      "4.333333         3\n",
      "5.333333         3\n",
      "2.666667         3\n",
      "2.333333         3\n",
      "2.333333         2\n",
      "3.333333         2\n",
      "1.666667         2\n",
      "4.666667         1\n",
      "2.666667         1\n",
      "Name: CJT_GESAMTTYP, dtype: int64\n",
      "6    288034\n",
      "1    194408\n",
      "5    105447\n",
      "2    103343\n",
      "4     55468\n",
      "3     40844\n",
      "Name: FINANZTYP, dtype: int64\n",
      "12.0    127636\n",
      "10.0    102606\n",
      "8.0      83251\n",
      "11.0     74576\n",
      "5.0      70371\n",
      "4.0      60739\n",
      "9.0      56473\n",
      "3.0      53140\n",
      "1.0      50436\n",
      "2.0      41172\n",
      "7.0      40705\n",
      "6.0      26439\n",
      "Name: GFK_URLAUBERTYP, dtype: int64\n",
      "1.0     406905\n",
      "10.0    129651\n",
      "2.0     102124\n",
      "11.0     48550\n",
      "8.0      22389\n",
      "7.0      19515\n",
      "6.0      16663\n",
      "4.0      14027\n",
      "5.0      11806\n",
      "9.0      10758\n",
      "3.0       5156\n",
      "Name: LP_FAMILIE_FEIN, dtype: int64\n",
      "1.0    406905\n",
      "5.0    188482\n",
      "2.0    105027\n",
      "4.0     52389\n",
      "3.0     34741\n",
      "Name: LP_FAMILIE_GROB, dtype: int64\n",
      "1.0     206027\n",
      "9.0     133292\n",
      "2.0     111434\n",
      "10.0    110804\n",
      "4.0      74054\n",
      "3.0      68869\n",
      "6.0      29448\n",
      "5.0      27222\n",
      "8.0      17104\n",
      "7.0       9290\n",
      "Name: LP_STATUS_FEIN, dtype: int64\n",
      "1.0    316920\n",
      "2.0    170875\n",
      "4.0    150861\n",
      "5.0    110556\n",
      "3.0     38332\n",
      "Name: LP_STATUS_GROB, dtype: int64\n",
      "1.0    684402\n",
      "2.0     70944\n",
      "3.0     32198\n",
      "Name: NATIONALITAET_KZ, dtype: int64\n",
      "1.0    251280\n",
      "2.0    226347\n",
      "3.0    178448\n",
      "0.0    131469\n",
      "Name: SHOPPER_TYP, dtype: int64\n",
      "2.000000    402070\n",
      "1.000000    367650\n",
      "1.500000     16098\n",
      "1.333333       411\n",
      "1.666667       411\n",
      "1.333333       409\n",
      "1.666667       409\n",
      "1.750000        42\n",
      "1.250000        42\n",
      "1.166667         1\n",
      "1.833333         1\n",
      "Name: VERS_TYP, dtype: int64\n",
      "3    279067\n",
      "4    205709\n",
      "1    120984\n",
      "5     80131\n",
      "6     70279\n",
      "2     31374\n",
      "Name: ZABEOTYP, dtype: int64\n",
      "1.0    452468\n",
      "3.0    177030\n",
      "8.0    151958\n",
      "2.0      4624\n",
      "4.0       870\n",
      "6.0       593\n",
      "5.0         1\n",
      "Name: GEBAEUDETYP, dtype: int64\n"
     ]
    }
   ],
   "source": [
    "#lets make sure that the values have been cleaned up. \n",
    "for item in none_binary:\n",
    "    print(few_of_missing_values[item].value_counts())"
   ]
  },
  {
   "cell_type": "markdown",
   "metadata": {},
   "source": [
    "Well this cleaned most of the non_binary values, but lets do a little more cleaning by dropping the ones that idd not round."
   ]
  },
  {
   "cell_type": "code",
   "execution_count": 42,
   "metadata": {},
   "outputs": [],
   "source": [
    "need_to_drop  = ['CJT_GESAMTTYP','VERS_TYP']\n",
    "\n",
    "for item in need_to_drop:\n",
    "    few_of_missing_values.drop(item, axis=1, inplace=True)"
   ]
  },
  {
   "cell_type": "markdown",
   "metadata": {},
   "source": [
    "    Now that we have removed some areas with high nulls, lets see how things look now. "
   ]
  },
  {
   "cell_type": "code",
   "execution_count": 43,
   "metadata": {},
   "outputs": [
    {
     "name": "stdout",
     "output_type": "stream",
     "text": [
      "6    288034\n",
      "1    194408\n",
      "5    105447\n",
      "2    103343\n",
      "4     55468\n",
      "3     40844\n",
      "Name: FINANZTYP, dtype: int64\n",
      "12.0    127636\n",
      "10.0    102606\n",
      "8.0      83251\n",
      "11.0     74576\n",
      "5.0      70371\n",
      "4.0      60739\n",
      "9.0      56473\n",
      "3.0      53140\n",
      "1.0      50436\n",
      "2.0      41172\n",
      "7.0      40705\n",
      "6.0      26439\n",
      "Name: GFK_URLAUBERTYP, dtype: int64\n",
      "1.0     406905\n",
      "10.0    129651\n",
      "2.0     102124\n",
      "11.0     48550\n",
      "8.0      22389\n",
      "7.0      19515\n",
      "6.0      16663\n",
      "4.0      14027\n",
      "5.0      11806\n",
      "9.0      10758\n",
      "3.0       5156\n",
      "Name: LP_FAMILIE_FEIN, dtype: int64\n",
      "1.0    406905\n",
      "5.0    188482\n",
      "2.0    105027\n",
      "4.0     52389\n",
      "3.0     34741\n",
      "Name: LP_FAMILIE_GROB, dtype: int64\n",
      "1.0     206027\n",
      "9.0     133292\n",
      "2.0     111434\n",
      "10.0    110804\n",
      "4.0      74054\n",
      "3.0      68869\n",
      "6.0      29448\n",
      "5.0      27222\n",
      "8.0      17104\n",
      "7.0       9290\n",
      "Name: LP_STATUS_FEIN, dtype: int64\n",
      "1.0    316920\n",
      "2.0    170875\n",
      "4.0    150861\n",
      "5.0    110556\n",
      "3.0     38332\n",
      "Name: LP_STATUS_GROB, dtype: int64\n",
      "1.0    684402\n",
      "2.0     70944\n",
      "3.0     32198\n",
      "Name: NATIONALITAET_KZ, dtype: int64\n",
      "1.0    251280\n",
      "2.0    226347\n",
      "3.0    178448\n",
      "0.0    131469\n",
      "Name: SHOPPER_TYP, dtype: int64\n",
      "3    279067\n",
      "4    205709\n",
      "1    120984\n",
      "5     80131\n",
      "6     70279\n",
      "2     31374\n",
      "Name: ZABEOTYP, dtype: int64\n",
      "1.0    452468\n",
      "3.0    177030\n",
      "8.0    151958\n",
      "2.0      4624\n",
      "4.0       870\n",
      "6.0       593\n",
      "5.0         1\n",
      "Name: GEBAEUDETYP, dtype: int64\n"
     ]
    }
   ],
   "source": [
    "for item in none_binary:\n",
    "    if item in need_to_drop:\n",
    "        continue\n",
    "    else:    \n",
    "        print(few_of_missing_values[item].value_counts())"
   ]
  },
  {
   "cell_type": "markdown",
   "metadata": {},
   "source": [
    "#### Step 1.2.2: Engineer Mixed-Type Features\n",
    "\n",
    "There are a handful of features that are marked as \"mixed\" in the feature summary that require special treatment in order to be included in the analysis. There are two in particular that deserve attention; the handling of the rest are up to your own choices:\n",
    "- \"PRAEGENDE_JUGENDJAHRE\" combines information on three dimensions: generation by decade, movement (mainstream vs. avantgarde), and nation (east vs. west). While there aren't enough levels to disentangle east from west, you should create two new variables to capture the other two dimensions: an interval-type variable for decade, and a binary variable for movement.\n",
    "- \"CAMEO_INTL_2015\" combines information on two axes: wealth and life stage. Break up the two-digit codes by their 'tens'-place and 'ones'-place digits into two new ordinal variables (which, for the purposes of this project, is equivalent to just treating them as their raw numeric values).\n",
    "- If you decide to keep or engineer new features around the other mixed-type features, make sure you note your steps in the Discussion section.\n",
    "\n",
    "Be sure to check `Data_Dictionary.md` for the details needed to finish these tasks."
   ]
  },
  {
   "cell_type": "code",
   "execution_count": 44,
   "metadata": {},
   "outputs": [
    {
     "data": {
      "text/plain": [
       "['LP_LEBENSPHASE_FEIN',\n",
       " 'LP_LEBENSPHASE_GROB',\n",
       " 'PRAEGENDE_JUGENDJAHRE',\n",
       " 'WOHNLAGE',\n",
       " 'CAMEO_INTL_2015',\n",
       " 'PLZ8_BAUMAX']"
      ]
     },
     "execution_count": 44,
     "metadata": {},
     "output_type": "execute_result"
    }
   ],
   "source": [
    "#Okay first weneed to lookk at the mixed value\n",
    "mixed_type = []\n",
    "for item in few_of_missing_values.columns:\n",
    "    if feat_info.loc[item].type == 'mixed':\n",
    "        mixed_type.append(item)\n",
    "        \n",
    "mixed_type"
   ]
  },
  {
   "cell_type": "code",
   "execution_count": 45,
   "metadata": {},
   "outputs": [
    {
     "data": {
      "text/plain": [
       "14.000000    181813\n",
       "8.000000     141638\n",
       "10.000000     86289\n",
       "5.000000      84680\n",
       "3.000000      53752\n",
       "15.000000     41735\n",
       "11.000000     37502\n",
       "9.000000      35241\n",
       "6.000000      26212\n",
       "12.000000     25969\n",
       "4.000000      20869\n",
       "1.000000      20489\n",
       "2.000000       7572\n",
       "13.000000      6216\n",
       "7.000000       4877\n",
       "9.500000       2122\n",
       "6.500000       1581\n",
       "8.500000       1515\n",
       "7.500000       1229\n",
       "5.500000       1022\n",
       "11.500000       982\n",
       "12.500000       966\n",
       "14.500000       637\n",
       "10.500000       598\n",
       "4.500000        494\n",
       "3.500000        165\n",
       "13.500000       104\n",
       "12.666667        97\n",
       "8.666667         90\n",
       "11.333333        82\n",
       "              ...  \n",
       "4.250000          2\n",
       "6.750000          2\n",
       "10.666667         2\n",
       "6.250000          2\n",
       "5.750000          2\n",
       "10.250000         2\n",
       "12.750000         2\n",
       "1.666667          2\n",
       "9.200000          2\n",
       "1.666667          1\n",
       "9.800000          1\n",
       "8.800000          1\n",
       "13.750000         1\n",
       "11.800000         1\n",
       "9.333333          1\n",
       "5.200000          1\n",
       "7.400000          1\n",
       "9.250000          1\n",
       "2.750000          1\n",
       "10.750000         1\n",
       "9.600000          1\n",
       "9.750000          1\n",
       "9.600000          1\n",
       "11.250000         1\n",
       "8.400000          1\n",
       "13.250000         1\n",
       "8.600000          1\n",
       "10.400000         1\n",
       "2.666667          1\n",
       "5.250000          1\n",
       "Name: PRAEGENDE_JUGENDJAHRE, Length: 107, dtype: int64"
      ]
     },
     "execution_count": 45,
     "metadata": {},
     "output_type": "execute_result"
    }
   ],
   "source": [
    "# Investigate \"PRAEGENDE_JUGENDJAHRE\" and engineer two new variables.\n",
    "few_of_missing_values['PRAEGENDE_JUGENDJAHRE'].value_counts()\n",
    "\n"
   ]
  },
  {
   "cell_type": "markdown",
   "metadata": {},
   "source": [
    "Looks like we could use some cleaning of the PRAEGENDE_JUGENDJAHRE values. "
   ]
  },
  {
   "cell_type": "code",
   "execution_count": 46,
   "metadata": {},
   "outputs": [],
   "source": [
    "few_of_missing_values['PRAEGENDE_JUGENDJAHRE'] = round(few_of_missing_values['PRAEGENDE_JUGENDJAHRE'],0)"
   ]
  },
  {
   "cell_type": "code",
   "execution_count": 47,
   "metadata": {},
   "outputs": [
    {
     "data": {
      "text/plain": [
       "14.0    182589\n",
       "8.0     144474\n",
       "10.0     89138\n",
       "5.0      84768\n",
       "3.0      53775\n",
       "15.0     41762\n",
       "11.0     37648\n",
       "9.0      35425\n",
       "6.0      28888\n",
       "12.0     27970\n",
       "4.0      21591\n",
       "1.0      20489\n",
       "2.0       7661\n",
       "13.0      6363\n",
       "7.0       5003\n",
       "Name: PRAEGENDE_JUGENDJAHRE, dtype: int64"
      ]
     },
     "execution_count": 47,
     "metadata": {},
     "output_type": "execute_result"
    }
   ],
   "source": [
    "few_of_missing_values['PRAEGENDE_JUGENDJAHRE'].value_counts()"
   ]
  },
  {
   "cell_type": "markdown",
   "metadata": {},
   "source": [
    "Looking much better. Now What does the above code mean? Lets Look at the Data Dictionary to figure that out.\n",
    "\n",
    "\n",
    "-  1: 40s - war years (Mainstream, E+W)\n",
    "-  2: 40s - reconstruction years (Avantgarde, E+W)\n",
    "-  3: 50s - economic miracle (Mainstream, E+W)\n",
    "-  4: 50s - milk bar / Individualisation (Avantgarde, E+W)\n",
    "-  5: 60s - economic miracle (Mainstream, E+W)\n",
    "-  6: 60s - generation 68 / student protestors (Avantgarde, W)\n",
    "-  7: 60s - opponents to the building of the Wall (Avantgarde, E)\n",
    "-  8: 70s - family orientation (Mainstream, E+W)\n",
    "-  9: 70s - peace movement (Avantgarde, E+W)\n",
    "- 10: 80s - Generation Golf (Mainstream, W)\n",
    "- 11: 80s - ecological awareness (Avantgarde, W)\n",
    "- 12: 80s - FDJ / communist party youth organisation (Mainstream, E)\n",
    "- 13: 80s - Swords into ploughshares (Avantgarde, E)\n",
    "- 14: 90s - digital media kids (Mainstream, E+W)\n",
    "- 15: 90s - ecological awareness (Avantgarde, E+W)\n",
    "\n",
    "So each number comunicates three facts; the decade, if the move was Mainstream or Avantagrde and if the  was E or W. \n",
    "\n",
    "We will focuse on two new varibable. \n",
    "\n",
    "Dominating movement of person's youth\n",
    "1.Mainstream\n",
    "2.Avantagrde\n",
    "\n",
    "Decade\n",
    "1: 40s\n",
    "2: 50s\n",
    "3: 60s\n",
    "4: 70s\n",
    "5: 80s\n",
    "6: 90s\n",
    "\n"
   ]
  },
  {
   "cell_type": "code",
   "execution_count": 48,
   "metadata": {},
   "outputs": [],
   "source": [
    "#We will create the new values by using pandas map function. \n",
    "#Frist we will need dictions to use to map the new values. \n",
    "\n",
    "dominating_movement_in_youth = {#Mainstream\n",
    "                                1:1, 3:1, 5:1, 8:1, 10:1, 12:1, 14:1, \n",
    "                                #Avantagrde\n",
    "                                2:2, 4:2,  6:2 ,  7:2 , 9:2, 11:2, 13:2, 15:2\n",
    "                               }\n",
    "\n",
    "decade = { #40's \n",
    "            1:1, 2:1,\n",
    "            #50's\n",
    "            3:2, 4:2, \n",
    "            #60's\n",
    "            5:3, 6:3, 7:3,\n",
    "            #70's\n",
    "            8:4, 9:4,\n",
    "            #80's\n",
    "            10:5, 11:5, 12:5, 13:5,\n",
    "            #90's\n",
    "            14:6, 15:6 \n",
    "}"
   ]
  },
  {
   "cell_type": "code",
   "execution_count": 49,
   "metadata": {},
   "outputs": [],
   "source": [
    "# Now adding the new columns to the dataframe \n",
    "few_of_missing_values['ENG_DECADE'] = few_of_missing_values['PRAEGENDE_JUGENDJAHRE'].map(decade)\n",
    "few_of_missing_values['ENG_MOVEMENT'] = few_of_missing_values['PRAEGENDE_JUGENDJAHRE'].map(dominating_movement_in_youth)"
   ]
  },
  {
   "cell_type": "code",
   "execution_count": 50,
   "metadata": {},
   "outputs": [
    {
     "data": {
      "text/plain": [
       "6    224351\n",
       "4    179899\n",
       "5    161119\n",
       "3    118659\n",
       "2     75366\n",
       "1     28150\n",
       "Name: ENG_DECADE, dtype: int64"
      ]
     },
     "execution_count": 50,
     "metadata": {},
     "output_type": "execute_result"
    }
   ],
   "source": [
    "#lets make sure it worked \n",
    "few_of_missing_values['ENG_DECADE'].value_counts()"
   ]
  },
  {
   "cell_type": "code",
   "execution_count": 51,
   "metadata": {},
   "outputs": [
    {
     "data": {
      "text/plain": [
       "51    133335\n",
       "41     91842\n",
       "24     90154\n",
       "14     62141\n",
       "43     56289\n",
       "54     45220\n",
       "25     39197\n",
       "22     32671\n",
       "45     25959\n",
       "13     25957\n",
       "23     24741\n",
       "55     23789\n",
       "52     20479\n",
       "34     18397\n",
       "31     18148\n",
       "15     16857\n",
       "44     14709\n",
       "12     13046\n",
       "35     10288\n",
       "32     10262\n",
       "33      9755\n",
       "Name: CAMEO_INTL_2015, dtype: int64"
      ]
     },
     "execution_count": 51,
     "metadata": {},
     "output_type": "execute_result"
    }
   ],
   "source": [
    "# Investigate \"CAMEO_INTL_2015\" and engineer two new variables.\n",
    "few_of_missing_values[\"CAMEO_INTL_2015\"].value_counts()\n",
    "\n"
   ]
  },
  {
   "cell_type": "markdown",
   "metadata": {},
   "source": [
    "once again the data dicionay shows us that the codes actaul encode two diffrenct data points\n",
    "\n",
    "Life Stage \n",
    "1. Pre-Family Couples & Singles<br>\n",
    "2. Young Couples With Children<br>\n",
    "3. Families With School Age Children<br>\n",
    "4. Older Families &  Mature Couples<br>\n",
    "5. Elders In Retirement<br>\n",
    "\n",
    "Wealth<br>\n",
    "1. Wealthy Households<br>\n",
    "2. Prosperous Households<br>\n",
    "3. Comfortable Households<br>\n",
    "4. Less Affluent Households<br>\n",
    "5. Poorer Households<br>\n",
    "\n",
    "But unlike PRAEGENDE_JUGENDJAHRE, CAMEO_INTL_2015 has the data encoded by first and second digit. \n",
    "So we will just need to seprate the digits to find the right endoding. "
   ]
  },
  {
   "cell_type": "code",
   "execution_count": 52,
   "metadata": {},
   "outputs": [],
   "source": [
    "#first we will need a function to seprage wealth values from life stage. \n",
    "\n",
    "def wealth_vs_lifestage_encodin(x, value):\n",
    "     if pd.isnull(x):\n",
    "            return np.nan\n",
    "     elif value == 'wealth':\n",
    "        return int(str(x)[0])\n",
    "     else:\n",
    "        return int(str(x)[1])\n"
   ]
  },
  {
   "cell_type": "code",
   "execution_count": 53,
   "metadata": {},
   "outputs": [],
   "source": [
    "few_of_missing_values['wealth'] = few_of_missing_values['CAMEO_INTL_2015'].apply(wealth_vs_lifestage_encodin, value='wealth')\n",
    "few_of_missing_values['lifestage'] = few_of_missing_values['CAMEO_INTL_2015'].apply(wealth_vs_lifestage_encodin, value='lifestage')"
   ]
  },
  {
   "cell_type": "code",
   "execution_count": 54,
   "metadata": {},
   "outputs": [
    {
     "data": {
      "text/plain": [
       "5.0    222823\n",
       "4.0    188799\n",
       "2.0    186763\n",
       "1.0    118001\n",
       "3.0     66850\n",
       "Name: wealth, dtype: int64"
      ]
     },
     "execution_count": 54,
     "metadata": {},
     "output_type": "execute_result"
    }
   ],
   "source": [
    "few_of_missing_values['wealth'].value_counts()"
   ]
  },
  {
   "cell_type": "code",
   "execution_count": 55,
   "metadata": {},
   "outputs": [
    {
     "data": {
      "text/plain": [
       "1.0    243325\n",
       "4.0    230621\n",
       "3.0    116742\n",
       "5.0    116090\n",
       "2.0     76458\n",
       "Name: lifestage, dtype: int64"
      ]
     },
     "execution_count": 55,
     "metadata": {},
     "output_type": "execute_result"
    }
   ],
   "source": [
    "few_of_missing_values['lifestage'].value_counts()"
   ]
  },
  {
   "cell_type": "code",
   "execution_count": 56,
   "metadata": {},
   "outputs": [
    {
     "name": "stdout",
     "output_type": "stream",
     "text": [
      "LP_LEBENSPHASE_FEIN\n",
      "1.00     58760\n",
      "5.00     53084\n",
      "6.00     44040\n",
      "2.00     37350\n",
      "8.00     29680\n",
      "7.00     25714\n",
      "13.00    25468\n",
      "11.00    25380\n",
      "29.00    25143\n",
      "10.00    24368\n",
      "31.00    22506\n",
      "12.00    22418\n",
      "30.00    21293\n",
      "15.00    19852\n",
      "3.00     19323\n",
      "19.00    19089\n",
      "37.00    17337\n",
      "4.00     17198\n",
      "20.00    17169\n",
      "14.00    16882\n",
      "32.00    15956\n",
      "39.00    15148\n",
      "16.00    14538\n",
      "40.00    14119\n",
      "27.00    13402\n",
      "35.00    13044\n",
      "38.00    13017\n",
      "21.00    12835\n",
      "9.00     12665\n",
      "34.00    12384\n",
      "         ...  \n",
      "36.80        1\n",
      "13.60        1\n",
      "4.60         1\n",
      "12.25        1\n",
      "27.75        1\n",
      "28.20        1\n",
      "28.80        1\n",
      "33.20        1\n",
      "19.80        1\n",
      "31.80        1\n",
      "28.25        1\n",
      "8.20         1\n",
      "8.80         1\n",
      "13.75        1\n",
      "16.20        1\n",
      "15.80        1\n",
      "28.60        1\n",
      "15.80        1\n",
      "2.80         1\n",
      "15.20        1\n",
      "11.20        1\n",
      "28.75        1\n",
      "5.60         1\n",
      "6.20         1\n",
      "7.40         1\n",
      "6.80         1\n",
      "21.40        1\n",
      "10.60        1\n",
      "22.25        1\n",
      "28.40        1\n",
      "Name: LP_LEBENSPHASE_FEIN, Length: 313, dtype: int64\n",
      "LP_LEBENSPHASE_GROB\n",
      "2.000000     153051\n",
      "1.000000     132032\n",
      "3.000000     110059\n",
      "12.000000     69400\n",
      "4.000000      53019\n",
      "5.000000      48363\n",
      "9.000000      46511\n",
      "10.000000     38588\n",
      "11.000000     31147\n",
      "6.000000      29574\n",
      "8.000000      28755\n",
      "7.000000      23601\n",
      "2.500000       3160\n",
      "1.500000       3135\n",
      "6.500000       2940\n",
      "5.500000       2723\n",
      "3.500000       2086\n",
      "7.500000       1912\n",
      "4.500000       1754\n",
      "8.500000        906\n",
      "10.500000       608\n",
      "9.500000        563\n",
      "11.500000       359\n",
      "2.333333        233\n",
      "2.666667        203\n",
      "1.666667        161\n",
      "1.666667        127\n",
      "4.333333        123\n",
      "3.666667        121\n",
      "3.333333        104\n",
      "              ...  \n",
      "8.400000          3\n",
      "3.400000          3\n",
      "10.250000         3\n",
      "4.800000          3\n",
      "7.250000          3\n",
      "8.750000          3\n",
      "11.250000         2\n",
      "6.200000          2\n",
      "7.600000          2\n",
      "2.200000          2\n",
      "1.400000          1\n",
      "2.800000          1\n",
      "5.200000          1\n",
      "6.600000          1\n",
      "3.600000          1\n",
      "10.750000         1\n",
      "6.250000          1\n",
      "11.750000         1\n",
      "1.800000          1\n",
      "8.200000          1\n",
      "8.600000          1\n",
      "11.200000         1\n",
      "8.800000          1\n",
      "1.600000          1\n",
      "6.800000          1\n",
      "11.600000         1\n",
      "10.200000         1\n",
      "10.800000         1\n",
      "10.400000         1\n",
      "2.600000          1\n",
      "Name: LP_LEBENSPHASE_GROB, Length: 108, dtype: int64\n",
      "PRAEGENDE_JUGENDJAHRE\n",
      "14.0    182589\n",
      "8.0     144474\n",
      "10.0     89138\n",
      "5.0      84768\n",
      "3.0      53775\n",
      "15.0     41762\n",
      "11.0     37648\n",
      "9.0      35425\n",
      "6.0      28888\n",
      "12.0     27970\n",
      "4.0      21591\n",
      "1.0      20489\n",
      "2.0       7661\n",
      "13.0      6363\n",
      "7.0       5003\n",
      "Name: PRAEGENDE_JUGENDJAHRE, dtype: int64\n",
      "WOHNLAGE\n",
      "3.0    248050\n",
      "7.0    168345\n",
      "4.0    135029\n",
      "2.0     99661\n",
      "5.0     73491\n",
      "1.0     43590\n",
      "8.0     16136\n",
      "0.0      3242\n",
      "Name: WOHNLAGE, dtype: int64\n",
      "CAMEO_INTL_2015\n",
      "51    133335\n",
      "41     91842\n",
      "24     90154\n",
      "14     62141\n",
      "43     56289\n",
      "54     45220\n",
      "25     39197\n",
      "22     32671\n",
      "45     25959\n",
      "13     25957\n",
      "23     24741\n",
      "55     23789\n",
      "52     20479\n",
      "34     18397\n",
      "31     18148\n",
      "15     16857\n",
      "44     14709\n",
      "12     13046\n",
      "35     10288\n",
      "32     10262\n",
      "33      9755\n",
      "Name: CAMEO_INTL_2015, dtype: int64\n",
      "PLZ8_BAUMAX\n",
      "1.000000    505106\n",
      "5.000000     97534\n",
      "2.000000     71480\n",
      "4.000000     56943\n",
      "3.000000     52734\n",
      "1.500000      1468\n",
      "2.500000      1090\n",
      "3.500000       399\n",
      "4.500000       262\n",
      "2.333333        78\n",
      "1.666667        69\n",
      "2.333333        65\n",
      "1.666667        54\n",
      "3.666667        53\n",
      "3.666667        42\n",
      "1.333333        37\n",
      "1.333333        30\n",
      "4.333333        18\n",
      "2.666667        15\n",
      "3.333333        12\n",
      "1.750000        10\n",
      "4.666667         8\n",
      "1.250000         7\n",
      "3.333333         5\n",
      "2.666667         4\n",
      "3.250000         4\n",
      "2.600000         3\n",
      "2.200000         2\n",
      "1.800000         2\n",
      "1.400000         2\n",
      "3.750000         1\n",
      "1.800000         1\n",
      "1.875000         1\n",
      "4.200000         1\n",
      "1.375000         1\n",
      "1.625000         1\n",
      "1.125000         1\n",
      "3.400000         1\n",
      "Name: PLZ8_BAUMAX, dtype: int64\n"
     ]
    }
   ],
   "source": [
    "#let's take a look at what type of encoding are being used for the other values. \n",
    "for item in mixed_type:\n",
    "    print(item)\n",
    "    print(few_of_missing_values[item].value_counts())"
   ]
  },
  {
   "cell_type": "markdown",
   "metadata": {},
   "source": [
    "LP_LEBENSPHASE_FEIN has a single encouded meaning ranging from 1-40.\n",
    "As some of the values have values in the fractional part that don't consided with the Data Dictionary. As these are small in value, often with only 1 in the whole dataset, we will consider these to be enter errors and will round them much like how I handled the data in PRAEGENDE_JUGENDJAHRE\n",
    "\n",
    "This is also true for LP_LEBENSPHASE_GROB, PLZ8_BAUMAX"
   ]
  },
  {
   "cell_type": "code",
   "execution_count": 57,
   "metadata": {},
   "outputs": [],
   "source": [
    "few_of_missing_values['LP_LEBENSPHASE_FEIN'] = few_of_missing_values['LP_LEBENSPHASE_FEIN'].round(0)\n",
    "few_of_missing_values['LP_LEBENSPHASE_GROB'] = few_of_missing_values['LP_LEBENSPHASE_GROB'].round(0)\n",
    "few_of_missing_values['PLZ8_BAUMAX'] = few_of_missing_values['PLZ8_BAUMAX'].round(0)"
   ]
  },
  {
   "cell_type": "markdown",
   "metadata": {},
   "source": [
    "#### Discussion 1.2.2: Engineer Mixed-Type Features\n",
    "The values in PRAEGENDE_JUGENDJAHRE and CAMEO_INTL_2015 were a little more complecated and need a more complecated fix. The other 4 vlaues seemed to just have some data entry erros and a low count of erros. Thuse a simple rounding fix worked with out to much risk to the modeles that will be built on this data. \n",
    "\n"
   ]
  },
  {
   "cell_type": "markdown",
   "metadata": {},
   "source": [
    "#### Step 1.2.3: Complete Feature Selection\n",
    "\n",
    "In order to finish this step up, you need to make sure that your data frame now only has the columns that you want to keep. To summarize, the dataframe should consist of the following:\n",
    "- All numeric, interval, and ordinal type columns from the original dataset.\n",
    "- Binary categorical features (all numerically-encoded).\n",
    "- Engineered features from other multi-level categorical features and mixed features.\n",
    "\n",
    "Make sure that for any new columns that you have engineered, that you've excluded the original columns from the final dataset. Otherwise, their values will interfere with the analysis later on the project. For example, you should not keep \"PRAEGENDE_JUGENDJAHRE\", since its values won't be useful for the algorithm: only the values derived from it in the engineered features you created should be retained. As a reminder, your data should only be from **the subset with few or no missing values**."
   ]
  },
  {
   "cell_type": "code",
   "execution_count": 58,
   "metadata": {},
   "outputs": [],
   "source": [
    "# If there are other re-engineering tasks you need to perform, make sure you\n",
    "# take care of them here. (Dealing with missing data will come in step 2.1.)\n",
    "few_of_missing_values.drop(\"PRAEGENDE_JUGENDJAHRE\", axis=1, inplace=True)\n",
    "few_of_missing_values.drop(\"CAMEO_INTL_2015\", axis=1, inplace=True)\n"
   ]
  },
  {
   "cell_type": "code",
   "execution_count": 59,
   "metadata": {},
   "outputs": [
    {
     "data": {
      "text/plain": [
       "ALTERSKATEGORIE_GROB        0\n",
       "ANREDE_KZ                   0\n",
       "FINANZ_MINIMALIST           0\n",
       "FINANZ_SPARER               0\n",
       "FINANZ_VORSORGER            0\n",
       "FINANZ_ANLEGER              0\n",
       "FINANZ_UNAUFFAELLIGER       0\n",
       "FINANZ_HAUSBAUER            0\n",
       "FINANZTYP                   0\n",
       "GFK_URLAUBERTYP             0\n",
       "GREEN_AVANTGARDE            0\n",
       "HEALTH_TYP                  0\n",
       "LP_LEBENSPHASE_FEIN         0\n",
       "LP_LEBENSPHASE_GROB         0\n",
       "LP_FAMILIE_FEIN             0\n",
       "LP_FAMILIE_GROB             0\n",
       "LP_STATUS_FEIN              0\n",
       "LP_STATUS_GROB              0\n",
       "NATIONALITAET_KZ            0\n",
       "RETOURTYP_BK_S              0\n",
       "SEMIO_SOZ                   0\n",
       "SEMIO_FAM                   0\n",
       "SEMIO_REL                   0\n",
       "SEMIO_MAT                   0\n",
       "SEMIO_VERT                  0\n",
       "SEMIO_LUST                  0\n",
       "SEMIO_ERL                   0\n",
       "SEMIO_KULT                  0\n",
       "SEMIO_RAT                   0\n",
       "SEMIO_KRIT                  0\n",
       "                         ... \n",
       "OST_WEST_KZ                 0\n",
       "WOHNLAGE                    0\n",
       "KBA05_ANTG1                 0\n",
       "KBA05_ANTG2                 0\n",
       "KBA05_ANTG3                 0\n",
       "KBA05_ANTG4                 0\n",
       "KBA05_GBZ                   0\n",
       "BALLRAUM                    0\n",
       "EWDICHTE                    0\n",
       "INNENSTADT                  0\n",
       "GEBAEUDETYP_RASTER          0\n",
       "KKK                         0\n",
       "MOBI_REGIO                  0\n",
       "ONLINE_AFFINITAET           0\n",
       "REGIOTYP                    0\n",
       "KBA13_ANZAHL_PKW            0\n",
       "PLZ8_ANTG1                  0\n",
       "PLZ8_ANTG2                  0\n",
       "PLZ8_ANTG3                  0\n",
       "PLZ8_ANTG4                  0\n",
       "PLZ8_BAUMAX                 0\n",
       "PLZ8_HHZ                    0\n",
       "PLZ8_GBZ                    0\n",
       "ARBEIT                      0\n",
       "ORTSGR_KLS9                 0\n",
       "RELAT_AB                    0\n",
       "ENG_DECADE                  0\n",
       "ENG_MOVEMENT                0\n",
       "wealth                   4308\n",
       "lifestage                4308\n",
       "Length: 77, dtype: int64"
      ]
     },
     "execution_count": 59,
     "metadata": {},
     "output_type": "execute_result"
    }
   ],
   "source": [
    "few_of_missing_values.isnull().sum()\n"
   ]
  },
  {
   "cell_type": "markdown",
   "metadata": {},
   "source": [
    "We can see that there are two values that still have lots of nagative value. Let's quickly check to make sure there is only the two that jump out.  "
   ]
  },
  {
   "cell_type": "markdown",
   "metadata": {},
   "source": [
    "Okay, now that we have confirmed that it is only two values that we created early lets fix them. "
   ]
  },
  {
   "cell_type": "code",
   "execution_count": 60,
   "metadata": {},
   "outputs": [],
   "source": [
    "few_of_missing_values['wealth'] = few_of_missing_values['wealth'].interpolate(limit_direction='both') \n",
    "few_of_missing_values['lifestage'] = few_of_missing_values['lifestage'].interpolate(limit_direction='both')\n",
    "\n"
   ]
  },
  {
   "cell_type": "code",
   "execution_count": 61,
   "metadata": {},
   "outputs": [],
   "source": [
    "# Do whatever you need to in order to ensure that the dataframe only contains\n",
    "# the columns that should be passed to the algorithm functions.\n",
    "check_for_none = few_of_missing_values.isnull().sum()\n",
    "for item in check_for_none:\n",
    "    if item > 0:\n",
    "        print (item)\n",
    "    \n",
    "\n"
   ]
  },
  {
   "cell_type": "markdown",
   "metadata": {},
   "source": [
    "Now, let's check to make sure this worked as expected"
   ]
  },
  {
   "cell_type": "code",
   "execution_count": 62,
   "metadata": {},
   "outputs": [
    {
     "name": "stdout",
     "output_type": "stream",
     "text": [
      "There are no longer any missing values.\n"
     ]
    }
   ],
   "source": [
    "check_for_none = few_of_missing_values.isnull().sum()\n",
    "counter = 0 \n",
    "for item in check_for_none:\n",
    "    if item > 0:\n",
    "        counter += 1\n",
    "if counter <= 0:\n",
    "    print(\"There are no longer any missing values.\")"
   ]
  },
  {
   "cell_type": "markdown",
   "metadata": {},
   "source": [
    "### Step 1.3: Create a Cleaning Function\n",
    "\n",
    "Even though you've finished cleaning up the general population demographics data, it's important to look ahead to the future and realize that you'll need to perform the same cleaning steps on the customer demographics data. In this substep, complete the function below to execute the main feature selection, encoding, and re-engineering steps you performed above. Then, when it comes to looking at the customer data in Step 3, you can just run this function on that DataFrame to get the trimmed dataset in a single step."
   ]
  },
  {
   "cell_type": "code",
   "execution_count": 63,
   "metadata": {},
   "outputs": [],
   "source": [
    "def clean_data(df):\n",
    "\n",
    "    # convert missing value codes into NaNs\n",
    "    # Load in the feature summary file.\n",
    "    feat_info = pd.read_csv('AZDIAS_Feature_Summary.csv', delimiter=';')\n",
    "    #adds a colm to feat_info called NA_tags that is the cleanded version of the mssing_or unknow_strings\n",
    "    feat_info['NA_tags'] = feat_info['missing_or_unknown'].apply(stings_to_list)\n",
    "\n",
    "    \n",
    "    #setting up an index called att_index \n",
    "    att_index  = feat_info.set_index('attribute')\n",
    "    \n",
    "    #This is go through all the columns in the data set and turn them into na values \n",
    "    \n",
    "    for column in df.columns:\n",
    "         df[column].replace(att_index.loc[column].loc['NA_tags'],np.NaN,inplace=True)\n",
    "    \n",
    "    \n",
    "    # remove selected columns \n",
    "    columns_to_be_removed = [\"AGER_TYP\", \"GEBURTSJAHR\", \"TITEL_KZ\", \"ALTER_HH\", \"KK_KUNDENTYP\", \"KBA05_BAUMAX\", \n",
    "                             \"CAMEO_DEUG_2015\",\"CAMEO_DEU_2015\"]\n",
    "    #dop columns\n",
    "    for item in columns_to_be_removed: \n",
    "        df.drop(item, axis=1, inplace=True) \n",
    "\n",
    "\n",
    "    #remove selected columns rows\n",
    "    few_missing = df[df.isnull().sum(axis=1) < 10].reset_index(drop=True)\n",
    "    #interpolate the few missing values \n",
    "    for col in few_missing.columns:\n",
    "        few_missing[col] = few_missing[col].interpolate(limit_direction='both')\n",
    "    \n",
    "    # select, re-encode, and engineer column values.\n",
    "   \n",
    "   #none_binary\n",
    "    non_binary_needs_to_be_reencoding = ['GFK_URLAUBERTYP','LP_FAMILIE_FEIN','LP_FAMILIE_GROB','LP_STATUS_FEIN',\n",
    "                               'LP_STATUS_GROB','NATIONALITAET_KZ','SHOPPER_TYP']\n",
    "    for item in non_binary_needs_to_be_reencoding:\n",
    "           few_missing [item] = round(few_missing[item],0)\n",
    "   \n",
    "    need_to_drop  = ['CJT_GESAMTTYP','VERS_TYP']\n",
    "\n",
    "    for item in need_to_drop:\n",
    "        few_missing.drop(item, axis=1, inplace=True)\n",
    "\n",
    "    #reencoding W and O to 1 and 0 \n",
    "    few_missing.loc[:, 'OST_WEST_KZ'].replace({'W':0, 'O':1}, inplace=True)\n",
    "\n",
    "    #rounded to remove any with small amount of errors. \n",
    "    non_binary_needs_to_be_reencoding = ['GFK_URLAUBERTYP','LP_FAMILIE_FEIN','LP_FAMILIE_GROB','LP_STATUS_FEIN',\n",
    "                                    'LP_STATUS_GROB','NATIONALITAET_KZ','SHOPPER_TYP']\n",
    "\n",
    "    for item in non_binary_needs_to_be_reencoding:\n",
    "        few_missing[item] = round(few_missing[item],0)\n",
    "\n",
    "    #mixed values \n",
    "    mixed_type = ['LP_LEBENSPHASE_FEIN', 'LP_LEBENSPHASE_GROB', 'PRAEGENDE_JUGENDJAHRE', 'WOHNLAGE', 'CAMEO_INTL_2015', 'PLZ8_BAUMAX']\n",
    "\n",
    "    few_missing['PRAEGENDE_JUGENDJAHRE'] = round(few_missing['PRAEGENDE_JUGENDJAHRE'],0)\n",
    "    dominating_movement_in_youth = {#Mainstream\n",
    "                                1:1, 3:1, 5:1, 8:1, 10:1, 12:1, 14:1, \n",
    "                                #Avantagrde\n",
    "                                2:2, 4:2,  6:2 ,  7:2 , 9:2, 11:2, 13:2, 15:2\n",
    "                               }\n",
    "\n",
    "    decade = {#40's \n",
    "            1:1, 2:1,\n",
    "            #50's\n",
    "            3:2, 4:2, \n",
    "            #60's\n",
    "            5:3, 6:3, 7:3,\n",
    "            #70's\n",
    "            8:4, 9:4,\n",
    "            #80's\n",
    "            10:5, 11:5, 12:5, 13:5,\n",
    "            #90's\n",
    "            14:6, 15:6}\n",
    "\n",
    "    few_missing['ENG_DECADE'] = few_missing['PRAEGENDE_JUGENDJAHRE'].map(decade)\n",
    "    few_missing['ENG_MOVEMENT'] = few_missing['PRAEGENDE_JUGENDJAHRE'].map(dominating_movement_in_youth)\n",
    "    \n",
    "\n",
    "    #Now to clean up CAMEO_INTL_2015\n",
    "    few_missing['wealth'] = few_missing['CAMEO_INTL_2015'].apply(wealth_vs_lifestage_encodin, value='wealth')\n",
    "    few_missing['lifestage'] = few_missing['CAMEO_INTL_2015'].apply(wealth_vs_lifestage_encodin, value='lifestage')\n",
    "    few_missing.drop(\"CAMEO_INTL_2015\", axis=1, inplace=True)\n",
    "    \n",
    "\n",
    "    # Now to drop the remaining mixed values\n",
    "    few_missing['LP_LEBENSPHASE_FEIN'] = few_missing['LP_LEBENSPHASE_FEIN'].round(0)\n",
    "    few_missing['LP_LEBENSPHASE_GROB'] = few_missing['LP_LEBENSPHASE_GROB'].round(0)\n",
    "    few_missing['PLZ8_BAUMAX'] = few_missing['PLZ8_BAUMAX'].round(0)\n",
    "   \n",
    "    \n",
    "    #Now a little more cleaning up:\n",
    "    few_missing['wealth'] = few_missing['wealth'].interpolate(limit_direction='both') \n",
    "    few_missing['lifestage'] = few_missing['lifestage'].interpolate(limit_direction='both')\n",
    "       \n",
    "\n",
    "    #finaly check to make sure that there are no NaN values\n",
    "    #TO-DO: change check to reuturn a list of items > 0 or return few_missing\t\n",
    "    return few_missing \n",
    "    \n",
    "    "
   ]
  },
  {
   "cell_type": "markdown",
   "metadata": {},
   "source": [
    "## Step 2: Feature Transformation\n",
    "\n",
    "### Step 2.1: Apply Feature Scaling\n",
    "\n",
    "Before we apply dimensionality reduction techniques to the data, we need to perform feature scaling so that the principal component vectors are not influenced by the natural differences in scale for features. Starting from this part of the project, you'll want to keep an eye on the [API reference page for sklearn](http://scikit-learn.org/stable/modules/classes.html) to help you navigate to all of the classes and functions that you'll need. In this substep, you'll need to check the following:\n",
    "\n",
    "- sklearn requires that data not have missing values in order for its estimators to work properly. So, before applying the scaler to your data, make sure that you've cleaned the DataFrame of the remaining missing values. This can be as simple as just removing all data points with missing data, or applying an [Imputer](https://scikit-learn.org/0.16/modules/generated/sklearn.preprocessing.Imputer.html) to replace all missing values. You might also try a more complicated procedure where you temporarily remove missing values in order to compute the scaling parameters before re-introducing those missing values and applying imputation. Think about how much missing data you have and what possible effects each approach might have on your analysis, and justify your decision in the discussion section below.\n",
    "- For the actual scaling function, a [StandardScaler](http://scikit-learn.org/stable/modules/generated/sklearn.preprocessing.StandardScaler.html) instance is suggested, scaling each feature to mean 0 and standard deviation 1.\n",
    "- For these classes, you can make use of the `.fit_transform()` method to both fit a procedure to the data as well as apply the transformation to the data at the same time. Don't forget to keep the fit sklearn objects handy, since you'll be applying them to the customer demographics data towards the end of the project."
   ]
  },
  {
   "cell_type": "code",
   "execution_count": 64,
   "metadata": {},
   "outputs": [
    {
     "name": "stdout",
     "output_type": "stream",
     "text": [
      "0.23.3\n"
     ]
    }
   ],
   "source": [
    "print(pd.__version__)"
   ]
  },
  {
   "cell_type": "code",
   "execution_count": 65,
   "metadata": {},
   "outputs": [],
   "source": [
    "# Apply feature scaling to the general population demographics data.\n",
    "from sklearn.preprocessing import StandardScaler\n",
    "scaler = StandardScaler()\n",
    "few_of_missing_values[few_of_missing_values.columns] = scaler.fit_transform(few_of_missing_values[few_of_missing_values.columns].values)\n",
    "#As we are using pandas version 23, I'm using the values methodid. If you are using pandas > 24 you should change this to to_numpy()\n",
    "#https://pandas.pydata.org/docs/reference/api/pandas.DataFrame.values.html"
   ]
  },
  {
   "cell_type": "code",
   "execution_count": 66,
   "metadata": {},
   "outputs": [
    {
     "data": {
      "text/html": [
       "<div>\n",
       "<style scoped>\n",
       "    .dataframe tbody tr th:only-of-type {\n",
       "        vertical-align: middle;\n",
       "    }\n",
       "\n",
       "    .dataframe tbody tr th {\n",
       "        vertical-align: top;\n",
       "    }\n",
       "\n",
       "    .dataframe thead th {\n",
       "        text-align: right;\n",
       "    }\n",
       "</style>\n",
       "<table border=\"1\" class=\"dataframe\">\n",
       "  <thead>\n",
       "    <tr style=\"text-align: right;\">\n",
       "      <th></th>\n",
       "      <th>ALTERSKATEGORIE_GROB</th>\n",
       "      <th>ANREDE_KZ</th>\n",
       "      <th>FINANZ_MINIMALIST</th>\n",
       "      <th>FINANZ_SPARER</th>\n",
       "      <th>FINANZ_VORSORGER</th>\n",
       "      <th>FINANZ_ANLEGER</th>\n",
       "      <th>FINANZ_UNAUFFAELLIGER</th>\n",
       "      <th>FINANZ_HAUSBAUER</th>\n",
       "      <th>FINANZTYP</th>\n",
       "      <th>GFK_URLAUBERTYP</th>\n",
       "      <th>...</th>\n",
       "      <th>PLZ8_BAUMAX</th>\n",
       "      <th>PLZ8_HHZ</th>\n",
       "      <th>PLZ8_GBZ</th>\n",
       "      <th>ARBEIT</th>\n",
       "      <th>ORTSGR_KLS9</th>\n",
       "      <th>RELAT_AB</th>\n",
       "      <th>ENG_DECADE</th>\n",
       "      <th>ENG_MOVEMENT</th>\n",
       "      <th>wealth</th>\n",
       "      <th>lifestage</th>\n",
       "    </tr>\n",
       "  </thead>\n",
       "  <tbody>\n",
       "    <tr>\n",
       "      <th>0</th>\n",
       "      <td>-1.765181</td>\n",
       "      <td>0.958218</td>\n",
       "      <td>-1.490890</td>\n",
       "      <td>1.539288</td>\n",
       "      <td>-1.043949</td>\n",
       "      <td>1.467187</td>\n",
       "      <td>0.972646</td>\n",
       "      <td>1.331434</td>\n",
       "      <td>-1.346084</td>\n",
       "      <td>0.710290</td>\n",
       "      <td>...</td>\n",
       "      <td>-0.649179</td>\n",
       "      <td>1.430595</td>\n",
       "      <td>0.558989</td>\n",
       "      <td>-0.171001</td>\n",
       "      <td>-0.130783</td>\n",
       "      <td>0.680322</td>\n",
       "      <td>1.157603</td>\n",
       "      <td>-0.552814</td>\n",
       "      <td>1.182214</td>\n",
       "      <td>-1.260865</td>\n",
       "    </tr>\n",
       "    <tr>\n",
       "      <th>1</th>\n",
       "      <td>0.199589</td>\n",
       "      <td>0.958218</td>\n",
       "      <td>-1.490890</td>\n",
       "      <td>0.866362</td>\n",
       "      <td>-1.770337</td>\n",
       "      <td>-0.569182</td>\n",
       "      <td>0.256102</td>\n",
       "      <td>1.331434</td>\n",
       "      <td>-1.346084</td>\n",
       "      <td>0.710290</td>\n",
       "      <td>...</td>\n",
       "      <td>-0.649179</td>\n",
       "      <td>0.399681</td>\n",
       "      <td>0.558989</td>\n",
       "      <td>-0.171001</td>\n",
       "      <td>-0.130783</td>\n",
       "      <td>-0.792240</td>\n",
       "      <td>1.157603</td>\n",
       "      <td>1.808926</td>\n",
       "      <td>-0.867760</td>\n",
       "      <td>0.759222</td>\n",
       "    </tr>\n",
       "    <tr>\n",
       "      <th>2</th>\n",
       "      <td>1.181974</td>\n",
       "      <td>0.958218</td>\n",
       "      <td>0.686283</td>\n",
       "      <td>-0.479491</td>\n",
       "      <td>1.135215</td>\n",
       "      <td>-0.569182</td>\n",
       "      <td>-1.176986</td>\n",
       "      <td>-0.808128</td>\n",
       "      <td>1.048657</td>\n",
       "      <td>-1.816331</td>\n",
       "      <td>...</td>\n",
       "      <td>-0.649179</td>\n",
       "      <td>-0.631233</td>\n",
       "      <td>0.558989</td>\n",
       "      <td>-1.174610</td>\n",
       "      <td>-1.000595</td>\n",
       "      <td>-0.055959</td>\n",
       "      <td>-0.224639</td>\n",
       "      <td>-0.552814</td>\n",
       "      <td>-1.551084</td>\n",
       "      <td>-0.587503</td>\n",
       "    </tr>\n",
       "    <tr>\n",
       "      <th>3</th>\n",
       "      <td>0.199589</td>\n",
       "      <td>-1.043604</td>\n",
       "      <td>0.686283</td>\n",
       "      <td>0.193436</td>\n",
       "      <td>0.408827</td>\n",
       "      <td>-1.247971</td>\n",
       "      <td>0.256102</td>\n",
       "      <td>-0.808128</td>\n",
       "      <td>0.569708</td>\n",
       "      <td>-0.693388</td>\n",
       "      <td>...</td>\n",
       "      <td>0.038732</td>\n",
       "      <td>-0.631233</td>\n",
       "      <td>-0.344181</td>\n",
       "      <td>0.832608</td>\n",
       "      <td>0.304123</td>\n",
       "      <td>1.416602</td>\n",
       "      <td>-0.224639</td>\n",
       "      <td>-0.552814</td>\n",
       "      <td>0.498889</td>\n",
       "      <td>0.085860</td>\n",
       "    </tr>\n",
       "    <tr>\n",
       "      <th>4</th>\n",
       "      <td>-1.765181</td>\n",
       "      <td>0.958218</td>\n",
       "      <td>-0.039441</td>\n",
       "      <td>-1.152417</td>\n",
       "      <td>1.135215</td>\n",
       "      <td>-0.569182</td>\n",
       "      <td>-0.460442</td>\n",
       "      <td>1.331434</td>\n",
       "      <td>-0.867136</td>\n",
       "      <td>-1.816331</td>\n",
       "      <td>...</td>\n",
       "      <td>-0.649179</td>\n",
       "      <td>1.430595</td>\n",
       "      <td>1.462159</td>\n",
       "      <td>-1.174610</td>\n",
       "      <td>-1.000595</td>\n",
       "      <td>-0.055959</td>\n",
       "      <td>-1.606882</td>\n",
       "      <td>-0.552814</td>\n",
       "      <td>1.182214</td>\n",
       "      <td>0.759222</td>\n",
       "    </tr>\n",
       "  </tbody>\n",
       "</table>\n",
       "<p>5 rows × 77 columns</p>\n",
       "</div>"
      ],
      "text/plain": [
       "   ALTERSKATEGORIE_GROB  ANREDE_KZ  FINANZ_MINIMALIST  FINANZ_SPARER  \\\n",
       "0             -1.765181   0.958218          -1.490890       1.539288   \n",
       "1              0.199589   0.958218          -1.490890       0.866362   \n",
       "2              1.181974   0.958218           0.686283      -0.479491   \n",
       "3              0.199589  -1.043604           0.686283       0.193436   \n",
       "4             -1.765181   0.958218          -0.039441      -1.152417   \n",
       "\n",
       "   FINANZ_VORSORGER  FINANZ_ANLEGER  FINANZ_UNAUFFAELLIGER  FINANZ_HAUSBAUER  \\\n",
       "0         -1.043949        1.467187               0.972646          1.331434   \n",
       "1         -1.770337       -0.569182               0.256102          1.331434   \n",
       "2          1.135215       -0.569182              -1.176986         -0.808128   \n",
       "3          0.408827       -1.247971               0.256102         -0.808128   \n",
       "4          1.135215       -0.569182              -0.460442          1.331434   \n",
       "\n",
       "   FINANZTYP  GFK_URLAUBERTYP    ...      PLZ8_BAUMAX  PLZ8_HHZ  PLZ8_GBZ  \\\n",
       "0  -1.346084         0.710290    ...        -0.649179  1.430595  0.558989   \n",
       "1  -1.346084         0.710290    ...        -0.649179  0.399681  0.558989   \n",
       "2   1.048657        -1.816331    ...        -0.649179 -0.631233  0.558989   \n",
       "3   0.569708        -0.693388    ...         0.038732 -0.631233 -0.344181   \n",
       "4  -0.867136        -1.816331    ...        -0.649179  1.430595  1.462159   \n",
       "\n",
       "     ARBEIT  ORTSGR_KLS9  RELAT_AB  ENG_DECADE  ENG_MOVEMENT    wealth  \\\n",
       "0 -0.171001    -0.130783  0.680322    1.157603     -0.552814  1.182214   \n",
       "1 -0.171001    -0.130783 -0.792240    1.157603      1.808926 -0.867760   \n",
       "2 -1.174610    -1.000595 -0.055959   -0.224639     -0.552814 -1.551084   \n",
       "3  0.832608     0.304123  1.416602   -0.224639     -0.552814  0.498889   \n",
       "4 -1.174610    -1.000595 -0.055959   -1.606882     -0.552814  1.182214   \n",
       "\n",
       "   lifestage  \n",
       "0  -1.260865  \n",
       "1   0.759222  \n",
       "2  -0.587503  \n",
       "3   0.085860  \n",
       "4   0.759222  \n",
       "\n",
       "[5 rows x 77 columns]"
      ]
     },
     "execution_count": 66,
     "metadata": {},
     "output_type": "execute_result"
    }
   ],
   "source": [
    "few_of_missing_values.head()"
   ]
  },
  {
   "cell_type": "markdown",
   "metadata": {},
   "source": [
    "### Discussion 2.1: Apply Feature Scaling\n",
    "\n",
    "Standard Scaler will handeld the varring scales for columns by reducing the mean to 0 and the standarded divation to 1. "
   ]
  },
  {
   "cell_type": "markdown",
   "metadata": {},
   "source": [
    "### Step 2.2: Perform Dimensionality Reduction\n",
    "\n",
    "On your scaled data, you are now ready to apply dimensionality reduction techniques.\n",
    "\n",
    "- Use sklearn's [PCA](http://scikit-learn.org/stable/modules/generated/sklearn.decomposition.PCA.html) class to apply principal component analysis on the data, thus finding the vectors of maximal variance in the data. To start, you should not set any parameters (so all components are computed) or set a number of components that is at least half the number of features (so there's enough features to see the general trend in variability).\n",
    "- Check out the ratio of variance explained by each principal component as well as the cumulative variance explained. Try plotting the cumulative or sequential values using matplotlib's [`plot()`](https://matplotlib.org/api/_as_gen/matplotlib.pyplot.plot.html) function. Based on what you find, select a value for the number of transformed features you'll retain for the clustering part of the project.\n",
    "- Once you've made a choice for the number of components to keep, make sure you re-fit a PCA instance to perform the decided-on transformation."
   ]
  },
  {
   "cell_type": "code",
   "execution_count": 67,
   "metadata": {},
   "outputs": [],
   "source": [
    "# Apply PCA to the data.\n",
    "from sklearn.decomposition import PCA\n",
    "pca = PCA()\n",
    "pca_few_of_missing_values = pca.fit_transform(few_of_missing_values)\n",
    "#Find the explained variance ratio\n",
    "pca_exp_var = pca.explained_variance_ratio_\n",
    "cum_sum_eigenvalues = np.cumsum(pca_exp_var)\n",
    "\n",
    "\n",
    "\n"
   ]
  },
  {
   "cell_type": "code",
   "execution_count": 68,
   "metadata": {},
   "outputs": [
    {
     "data": {
      "image/png": "[encoded data removed]",
      "text/plain": [
       "<matplotlib.figure.Figure at 0x7fd8a8a60b00>"
      ]
     },
     "metadata": {
      "needs_background": "light"
     },
     "output_type": "display_data"
    }
   ],
   "source": [
    "#Now to make the plot\n",
    "# Create the visualization plot\n",
    "#\n",
    "plt.bar(range(0,len(pca_exp_var)), pca_exp_var, alpha=None, align='center', label='Individual explained variance')\n",
    "plt.step(range(0,len(cum_sum_eigenvalues)), cum_sum_eigenvalues, where='mid',label='Cumulative explained variance')\n",
    "plt.ylabel('Explained variance ratio')\n",
    "plt.xlabel('Principal component index')\n",
    "plt.legend(loc='best')\n",
    "plt.tight_layout()\n",
    "plt.show()\n"
   ]
  },
  {
   "cell_type": "code",
   "execution_count": 69,
   "metadata": {},
   "outputs": [],
   "source": [
    "# Investigate the variance accounted for by each principal component.\n",
    "#I wasn't sure the best way to choice the principal componet, I found this artical very helpful https://www.mikulskibartosz.name/pca-how-to-choose-the-number-of-components/\n",
    "#Let's test at 30 features\n",
    "pca = PCA(n_components = 30)\n",
    "pca_n_30_few_of_missing_values = pca.fit_transform(few_of_missing_values)\n",
    "#Find the explained variance ratio\n",
    "pca_exp_var = pca.explained_variance_ratio_\n",
    "cum_sum_eigenvalues = np.cumsum(pca_exp_var)\n",
    "\n"
   ]
  },
  {
   "cell_type": "code",
   "execution_count": 70,
   "metadata": {},
   "outputs": [
    {
     "data": {
      "image/png": "[encoded data removed]",
      "text/plain": [
       "<matplotlib.figure.Figure at 0x7fd8ac89a4a8>"
      ]
     },
     "metadata": {
      "needs_background": "light"
     },
     "output_type": "display_data"
    }
   ],
   "source": [
    "plt.bar(range(0,len(pca_exp_var)), pca_exp_var, alpha=None, align='center', label='Individual explained variance')\n",
    "plt.step(range(0,len(cum_sum_eigenvalues)), cum_sum_eigenvalues, where='mid',label='Cumulative explained variance')\n",
    "plt.ylabel('Explained variance ratio')\n",
    "plt.xlabel('Principal component index')\n",
    "plt.legend(loc='best')\n",
    "plt.tight_layout()\n",
    "plt.show()"
   ]
  },
  {
   "cell_type": "code",
   "execution_count": 71,
   "metadata": {},
   "outputs": [
    {
     "name": "stdout",
     "output_type": "stream",
     "text": [
      "10\n"
     ]
    }
   ],
   "source": [
    "# Investigate the variance accounted for by each principal component.\n",
    "#I wasn't sure the best way to choice the principal componet, I found this artical very helpful https://www.mikulskibartosz.name/pca-how-to-choose-the-number-of-components/\n",
    "#Let's test at 30 features\n",
    "pca = PCA(n_components = 10)\n",
    "pca_n_10_few_of_missing_values = pca.fit_transform(few_of_missing_values)\n",
    "#Find the explained variance ratio\n",
    "pca_exp_var = pca.explained_variance_ratio_\n",
    "cum_sum_eigenvalues = np.cumsum(pca_exp_var)\n",
    "print(len(pca_exp_var))\n",
    "\n"
   ]
  },
  {
   "cell_type": "code",
   "execution_count": 72,
   "metadata": {},
   "outputs": [
    {
     "data": {
      "image/png": "[encoded data removed]",
      "text/plain": [
       "<matplotlib.figure.Figure at 0x7fd8a89500b8>"
      ]
     },
     "metadata": {
      "needs_background": "light"
     },
     "output_type": "display_data"
    }
   ],
   "source": [
    "plt.bar(range(0,len(pca_exp_var)), pca_exp_var, alpha=None, align='center', label='Individual explained variance')\n",
    "plt.step(range(0,len(cum_sum_eigenvalues)), cum_sum_eigenvalues, where='mid',label='Cumulative explained variance')\n",
    "plt.ylabel('Explained variance ratio')\n",
    "plt.xlabel('Principal component index')\n",
    "plt.legend(loc='best')\n",
    "plt.tight_layout()\n",
    "plt.show()"
   ]
  },
  {
   "cell_type": "code",
   "execution_count": 73,
   "metadata": {},
   "outputs": [],
   "source": [
    "pca = PCA(n_components = .85)\n",
    "pca_n_85_few_of_missing_values = pca.fit_transform(few_of_missing_values)\n",
    "#Find the explained variance ratio\n",
    "pca_exp_var = pca.explained_variance_ratio_\n",
    "cum_sum_eigenvalues = np.cumsum(pca_exp_var)"
   ]
  },
  {
   "cell_type": "code",
   "execution_count": 74,
   "metadata": {},
   "outputs": [
    {
     "data": {
      "image/png": "[encoded data removed]",
      "text/plain": [
       "<matplotlib.figure.Figure at 0x7fd8a8885358>"
      ]
     },
     "metadata": {
      "needs_background": "light"
     },
     "output_type": "display_data"
    }
   ],
   "source": [
    "plt.bar(range(0,len(pca_exp_var)), pca_exp_var, alpha=None, align='center', label='Individual explained variance')\n",
    "plt.step(range(0,len(cum_sum_eigenvalues)), cum_sum_eigenvalues, where='mid',label='Cumulative explained variance')\n",
    "plt.ylabel('Explained variance ratio')\n",
    "plt.xlabel('Principal component index')\n",
    "plt.legend(loc='best')\n",
    "plt.tight_layout()\n",
    "plt.show()"
   ]
  },
  {
   "cell_type": "code",
   "execution_count": 75,
   "metadata": {},
   "outputs": [
    {
     "name": "stdout",
     "output_type": "stream",
     "text": [
      "10\n"
     ]
    }
   ],
   "source": [
    "# Re-apply PCA to the data while selecting for number of components to retain.\n",
    "pca = PCA(n_components = 10)\n",
    "pca_final = pca.fit_transform(few_of_missing_values)\n",
    "pca_exp_var = pca.explained_variance_ratio_\n",
    "print(len(pca_exp_var))\n"
   ]
  },
  {
   "cell_type": "markdown",
   "metadata": {},
   "source": [
    "### Discussion 2.2: Perform Dimensionality Reduction\n",
    "\n",
    "Durning my research, I found that aming for an explained varinance ratio of about 85% is a good goal. \n",
    "I was able to use the n_componets precentage option to achive this. I confirmed with the above graphs. This leaves me with 31 componites. "
   ]
  },
  {
   "cell_type": "markdown",
   "metadata": {},
   "source": [
    "### Step 2.3: Interpret Principal Components\n",
    "\n",
    "Now that we have our transformed principal components, it's a nice idea to check out the weight of each variable on the first few components to see if they can be interpreted in some fashion.\n",
    "\n",
    "As a reminder, each principal component is a unit vector that points in the direction of highest variance (after accounting for the variance captured by earlier principal components). The further a weight is from zero, the more the principal component is in the direction of the corresponding feature. If two features have large weights of the same sign (both positive or both negative), then increases in one tend expect to be associated with increases in the other. To contrast, features with different signs can be expected to show a negative correlation: increases in one variable should result in a decrease in the other.\n",
    "\n",
    "- To investigate the features, you should map each weight to their corresponding feature name, then sort the features according to weight. The most interesting features for each principal component, then, will be those at the beginning and end of the sorted list. Use the data dictionary document to help you understand these most prominent features, their relationships, and what a positive or negative value on the principal component might indicate.\n",
    "- You should investigate and interpret feature associations from the first three principal components in this substep. To help facilitate this, you should write a function that you can call at any time to print the sorted list of feature weights, for the *i*-th principal component. This might come in handy in the next step of the project, when you interpret the tendencies of the discovered clusters."
   ]
  },
  {
   "cell_type": "code",
   "execution_count": 76,
   "metadata": {},
   "outputs": [
    {
     "name": "stdout",
     "output_type": "stream",
     "text": [
      "top 5 value\n",
      "('ALTERSKATEGORIE_GROB', 0.2674397047423922)\n",
      "('FINANZ_VORSORGER', 0.23898787877708022)\n",
      "('SEMIO_ERL', 0.22791204463503273)\n",
      "('SEMIO_LUST', 0.18615413420765192)\n",
      "('RETOURTYP_BK_S', 0.16304909647582003)\n",
      "\n",
      "\n",
      "bottom five'lowest on top'\n",
      "('SEMIO_REL', -0.25915212335280935)\n",
      "('ENG_DECADE', -0.25551172539530465)\n",
      "('FINANZ_SPARER', -0.24923735985052284)\n",
      "('SEMIO_PFLICHT', -0.23585329771677685)\n",
      "('SEMIO_TRADV', -0.2346093330948755)\n"
     ]
    }
   ],
   "source": [
    "# Map weights for the first principal component to corresponding feature names\n",
    "# and then print the linked values, sorted by weight.\n",
    "# HINT: Try defining a function here or in a new cell that you can reuse in the\n",
    "# other cells.\n",
    "\n",
    "import pprint\n",
    "\n",
    "def pca_weights(pca, i):\n",
    "    map_weights = {}\n",
    "    for index, col_name in enumerate(few_of_missing_values.columns):\n",
    "        map_weights[col_name] = pca.components_[i][index]\n",
    "    \n",
    "    sorted_weights = sorted(map_weights.items(), key= operator.itemgetter(1), reverse=True)\n",
    "    \n",
    "    return sorted_weights\n",
    "\n",
    "weights_1 = pca_weights(pca,1)\n",
    "\n",
    "#print top 5 - bottom five\n",
    "print('top 5 value')\n",
    "print(weights_1[0])\n",
    "print(weights_1[1])\n",
    "print(weights_1[2])\n",
    "print(weights_1[3])\n",
    "print(weights_1[4])\n",
    "print(\"\\n\")\n",
    "print(\"bottom five\\'lowest on top'\")\n",
    "print(weights_1[-1])\n",
    "print(weights_1[-2])\n",
    "print(weights_1[-3])\n",
    "print(weights_1[-4])\n",
    "print(weights_1[-5])\n"
   ]
  },
  {
   "cell_type": "code",
   "execution_count": 77,
   "metadata": {},
   "outputs": [],
   "source": [
    "def print_top_bottom_five(list):\n",
    "    print('top 5 value')\n",
    "    print(list[0])\n",
    "    print(list[1])\n",
    "    print(list[2])\n",
    "    print(list[3])\n",
    "    print(list[4])\n",
    "    print(\"\\n\")\n",
    "    print(\"bottom five\\'lowest on top'\")\n",
    "    print(list[-1])\n",
    "    print(list[-2])\n",
    "    print(list[-3])\n",
    "    print(list[-4])\n",
    "    print(list[-5])\n"
   ]
  },
  {
   "cell_type": "markdown",
   "metadata": {},
   "source": [
    "The fist componats top values are ALTERSKATEGORIE_GROB = AGE CATEGORY Rough = Estimated age based on given name analysis, FINANZ_VORSORGER =FINANCIAL PROVISION Financial typology, for each dimension: \n",
    "SEMIO_ERL Personality typology, for each dimension. This principle componat seems most intrested in the age, how furgaul, or how much they spend, and what is important to them such as family culuter, dreamfull. These 3 dat points to seem to build an interstering vew of the shopwer. \n",
    "\n",
    "While on the nagative end this looks at SEMIO_REL, which shares the same encoding as SEMIO_ERL, ENG_DECADE  again looking at age, and FINANZ_SPARER which looks at the shoper type. "
   ]
  },
  {
   "cell_type": "code",
   "execution_count": 78,
   "metadata": {},
   "outputs": [
    {
     "name": "stdout",
     "output_type": "stream",
     "text": [
      "top 5 value\n",
      "('SEMIO_VERT', 0.33763881019235359)\n",
      "('SEMIO_SOZ', 0.26002308113685763)\n",
      "('SEMIO_FAM', 0.25277877365607448)\n",
      "('SEMIO_KULT', 0.2393061758868395)\n",
      "('FINANZ_MINIMALIST', 0.15104649454301572)\n",
      "\n",
      "\n",
      "bottom five'lowest on top'\n",
      "('ANREDE_KZ', -0.36301892631832633)\n",
      "('SEMIO_KAEM', -0.33163868230360599)\n",
      "('SEMIO_DOM', -0.30635472140748032)\n",
      "('SEMIO_KRIT', -0.27076851945330244)\n",
      "('SEMIO_RAT', -0.20216087852209436)\n"
     ]
    }
   ],
   "source": [
    "# Map weights for the second principal component to corresponding feature names\n",
    "# and then print the linked values, sorted by weight.\n",
    "weights_2 = pca_weights(pca,2)\n",
    "print_top_bottom_five(weights_2)\n"
   ]
  },
  {
   "cell_type": "markdown",
   "metadata": {},
   "source": [
    "The second componat is focused with how strong or weak a person is in a few basic personlity types for exmaple social, reilgion, dreamer, event-oriented. "
   ]
  },
  {
   "cell_type": "code",
   "execution_count": 79,
   "metadata": {},
   "outputs": [
    {
     "name": "stdout",
     "output_type": "stream",
     "text": [
      "top 5 value\n",
      "('LP_FAMILIE_GROB', 0.33992686119178855)\n",
      "('LP_FAMILIE_FEIN', 0.33756651245884151)\n",
      "('LP_LEBENSPHASE_GROB', 0.32874553590870015)\n",
      "('LP_LEBENSPHASE_FEIN', 0.32088149557206619)\n",
      "('ANZ_PERSONEN', 0.28311071351042988)\n",
      "\n",
      "\n",
      "bottom five'lowest on top'\n",
      "('W_KEIT_KIND_HH', -0.21045199750384083)\n",
      "('INNENSTADT', -0.16741801642713791)\n",
      "('WOHNLAGE', -0.16121947604049902)\n",
      "('BALLRAUM', -0.15732984263306343)\n",
      "('PLZ8_ANTG1', -0.11302421181612303)\n"
     ]
    }
   ],
   "source": [
    "# Map weights for the third principal component to corresponding feature names\n",
    "# and then print the linked values, sorted by weight.\n",
    "weights_3 = pca_weights(pca,3)\n",
    "print_top_bottom_five(weights_3)"
   ]
  },
  {
   "cell_type": "markdown",
   "metadata": {},
   "source": [
    "I feel that the the third componant is the most intersting. It foucuse on a the household lookking at the statge of life the family is at, age of family members,  age of the head of household. \n",
    "While the nagtive values look at distance from urban and city centers, likelhood of children, qulity of the neigborhood.  "
   ]
  },
  {
   "cell_type": "markdown",
   "metadata": {},
   "source": [
    "### Discussion 2.3: Interpret Principal Components\n",
    "\n",
    "A detailed break down of each interpret principal componets have been provided above. \n",
    "Review \n",
    "principal compnets 1 : Age and spending mentality\n",
    "principal compnets 2: A person's convition towards social philosophy \n",
    "principal compnets 3: Ages and sizes of a household and location of the home. "
   ]
  },
  {
   "cell_type": "markdown",
   "metadata": {},
   "source": [
    "## Step 3: Clustering\n",
    "\n",
    "### Step 3.1: Apply Clustering to General Population\n",
    "\n",
    "You've assessed and cleaned the demographics data, then scaled and transformed them. Now, it's time to see how the data clusters in the principal components space. In this substep, you will apply k-means clustering to the dataset and use the average within-cluster distances from each point to their assigned cluster's centroid to decide on a number of clusters to keep.\n",
    "\n",
    "- Use sklearn's [KMeans](http://scikit-learn.org/stable/modules/generated/sklearn.cluster.KMeans.html#sklearn.cluster.KMeans) class to perform k-means clustering on the PCA-transformed data.\n",
    "- Then, compute the average difference from each point to its assigned cluster's center. **Hint**: The KMeans object's `.score()` method might be useful here, but note that in sklearn, scores tend to be defined so that larger is better. Try applying it to a small, toy dataset, or use an internet search to help your understanding.\n",
    "- Perform the above two steps for a number of different cluster counts. You can then see how the average distance decreases with an increasing number of clusters. However, each additional cluster provides a smaller net benefit. Use this fact to select a final number of clusters in which to group the data. **Warning**: because of the large size of the dataset, it can take a long time for the algorithm to resolve. The more clusters to fit, the longer the algorithm will take. You should test for cluster counts through at least 10 clusters to get the full picture, but you shouldn't need to test for a number of clusters above about 30.\n",
    "- Once you've selected a final number of clusters to use, re-fit a KMeans instance to perform the clustering operation. Make sure that you also obtain the cluster assignments for the general demographics data, since you'll be using them in the final Step 3.3."
   ]
  },
  {
   "cell_type": "code",
   "execution_count": 80,
   "metadata": {},
   "outputs": [],
   "source": [
    "# Over a number of different cluster counts...\n",
    "def cluster(data,num_cluster):\n",
    "    kmeans =KMeans(n_clusters = num_cluster)\n",
    "    model = kmeans.fit(data)\n",
    "    score = np.abs(kmeans.score(data))\n",
    "    return score \n",
    "    "
   ]
  },
  {
   "cell_type": "code",
   "execution_count": 81,
   "metadata": {},
   "outputs": [],
   "source": [
    "# Investigate the change in within-cluster distance across number of clusters.\n",
    "# HINT: Use matplotlib's plot function to visualize this relationship.\n",
    "\n",
    "scores = {}\n",
    "#we will use a range of 2 to 30. As one cluster is redudent and 31 is the maxium features after pca.\n",
    "#for  k in range(2,25):\n",
    " #   scores[k] = cluster(pca_final, k)\n",
    "  #  print(f'value {k} has been printed')\n",
    "\n",
    "\n",
    "\n",
    "\n"
   ]
  },
  {
   "cell_type": "code",
   "execution_count": 82,
   "metadata": {},
   "outputs": [],
   "source": [
    "#fig, ax = plt.subplots(figsize=(16,10))    \n",
    "#ax = pd.Series(scores).plot(marker='o', color='slategray')\n",
    "#ax.set_xticks(np.arange(2, 25), minor=False)  \n",
    "#ax.set_xlabel(\"Clusters\")\n",
    "#ax.set_ylabel(\"Distance to the center\")"
   ]
  },
  {
   "cell_type": "code",
   "execution_count": 83,
   "metadata": {},
   "outputs": [],
   "source": [
    "# Re-fit the k-means model with the selected number of clusters and obtain\n",
    "kmeans = KMeans(n_clusters = 9)\n",
    "refit_cluster = kmeans.fit(pca_final)\n",
    "\n"
   ]
  },
  {
   "cell_type": "code",
   "execution_count": 84,
   "metadata": {},
   "outputs": [],
   "source": [
    "# cluster predictions for the general population demographics data.\n",
    "predict_genral = refit_cluster.predict(pca_final)\n"
   ]
  },
  {
   "cell_type": "markdown",
   "metadata": {},
   "source": [
    "### Discussion 3.1: Apply Clustering to General Population\n",
    "\n",
    "Looking at the elbow of the above chart 9 clusters looked to be the most fitting point."
   ]
  },
  {
   "cell_type": "markdown",
   "metadata": {},
   "source": [
    "### Step 3.2: Apply All Steps to the Customer Data\n",
    "\n",
    "Now that you have clusters and cluster centers for the general population, it's time to see how the customer data maps on to those clusters. Take care to not confuse this for re-fitting all of the models to the customer data. Instead, you're going to use the fits from the general population to clean, transform, and cluster the customer data. In the last step of the project, you will interpret how the general population fits apply to the customer data.\n",
    "\n",
    "- Don't forget when loading in the customers data, that it is semicolon (`;`) delimited.\n",
    "- Apply the same feature wrangling, selection, and engineering steps to the customer demographics using the `clean_data()` function you created earlier. (You can assume that the customer demographics data has similar meaning behind missing data patterns as the general demographics data.)\n",
    "- Use the sklearn objects from the general demographics data, and apply their transformations to the customers data. That is, you should not be using a `.fit()` or `.fit_transform()` method to re-fit the old objects, nor should you be creating new sklearn objects! Carry the data through the feature scaling, PCA, and clustering steps, obtaining cluster assignments for all of the data in the customer demographics data."
   ]
  },
  {
   "cell_type": "code",
   "execution_count": 85,
   "metadata": {},
   "outputs": [],
   "source": [
    "# Load in the customer demographics data.\n",
    "customers = pd.read_csv('Udacity_CUSTOMERS_Subset.csv',delimiter = ';')"
   ]
  },
  {
   "cell_type": "code",
   "execution_count": 86,
   "metadata": {},
   "outputs": [],
   "source": [
    "# Apply preprocessing, feature transformation, and clustering from the general\n",
    "# demographics onto the customer data, obtaining cluster predictions for the\n",
    "# customer demographics data.\n",
    "customers_clean = clean_data(customers)\n",
    "\n"
   ]
  },
  {
   "cell_type": "code",
   "execution_count": 87,
   "metadata": {},
   "outputs": [
    {
     "data": {
      "text/plain": [
       "0"
      ]
     },
     "execution_count": 87,
     "metadata": {},
     "output_type": "execute_result"
    }
   ],
   "source": [
    "#Check to make sure all values are null! \n",
    "customers_clean.isnull().sum().sum()\n"
   ]
  },
  {
   "cell_type": "code",
   "execution_count": 88,
   "metadata": {},
   "outputs": [],
   "source": [
    "#Scale the data \n",
    "customer_scaler = StandardScaler()\n",
    "customers_clean[customers_clean.columns] = customer_scaler.fit_transform(customers_clean[customers_clean.columns].values)"
   ]
  },
  {
   "cell_type": "code",
   "execution_count": 89,
   "metadata": {},
   "outputs": [],
   "source": [
    "#PCA step for the customer data \n",
    "pca = PCA(n_components = 10)\n",
    "pca_customer = pca.fit_transform(customers_clean)\n",
    "#Find the explained variance ratio\n",
    "cust_pca_exp_var = pca.explained_variance_ratio_\n",
    "sum_eigenvalues = np.cumsum(pca_exp_var)"
   ]
  },
  {
   "cell_type": "code",
   "execution_count": 90,
   "metadata": {},
   "outputs": [],
   "source": [
    "kmeans_2 = KMeans(n_clusters = 9)\n",
    "customer_cluster = kmeans_2.fit(pca_customer)"
   ]
  },
  {
   "cell_type": "code",
   "execution_count": 91,
   "metadata": {},
   "outputs": [],
   "source": [
    "predict_customer = customer_cluster.predict(pca_customer)"
   ]
  },
  {
   "cell_type": "markdown",
   "metadata": {},
   "source": [
    "### Step 3.3: Compare Customer Data to Demographics Data\n",
    "\n",
    "At this point, you have clustered data based on demographics of the general population of Germany, and seen how the customer data for a mail-order sales company maps onto those demographic clusters. In this final substep, you will compare the two cluster distributions to see where the strongest customer base for the company is.\n",
    "\n",
    "Consider the proportion of persons in each cluster for the general population, and the proportions for the customers. If we think the company's customer base to be universal, then the cluster assignment proportions should be fairly similar between the two. If there are only particular segments of the population that are interested in the company's products, then we should see a mismatch from one to the other. If there is a higher proportion of persons in a cluster for the customer data compared to the general population (e.g. 5% of persons are assigned to a cluster for the general population, but 15% of the customer data is closest to that cluster's centroid) then that suggests the people in that cluster to be a target audience for the company. On the other hand, the proportion of the data in a cluster being larger in the general population than the customer data (e.g. only 2% of customers closest to a population centroid that captures 6% of the data) suggests that group of persons to be outside of the target demographics.\n",
    "\n",
    "Take a look at the following points in this step:\n",
    "\n",
    "- Compute the proportion of data points in each cluster for the general population and the customer data. Visualizations will be useful here: both for the individual dataset proportions, but also to visualize the ratios in cluster representation between groups. Seaborn's [`countplot()`](https://seaborn.pydata.org/generated/seaborn.countplot.html) or [`barplot()`](https://seaborn.pydata.org/generated/seaborn.barplot.html) function could be handy.\n",
    "  - Recall the analysis you performed in step 1.1.3 of the project, where you separated out certain data points from the dataset if they had more than a specified threshold of missing values. If you found that this group was qualitatively different from the main bulk of the data, you should treat this as an additional data cluster in this analysis. Make sure that you account for the number of data points in this subset, for both the general population and customer datasets, when making your computations!\n",
    "- Which cluster or clusters are overrepresented in the customer dataset compared to the general population? Select at least one such cluster and infer what kind of people might be represented by that cluster. Use the principal component interpretations from step 2.3 or look at additional components to help you make this inference. Alternatively, you can use the `.inverse_transform()` method of the PCA and StandardScaler objects to transform centroids back to the original data space and interpret the retrieved values directly.\n",
    "- Perform a similar investigation for the underrepresented clusters. Which cluster or clusters are underrepresented in the customer dataset compared to the general population, and what kinds of people are typified by these clusters?"
   ]
  },
  {
   "cell_type": "code",
   "execution_count": 92,
   "metadata": {},
   "outputs": [
    {
     "data": {
      "text/plain": [
       "array([5, 7, 6, ..., 1, 8, 6], dtype=int32)"
      ]
     },
     "execution_count": 92,
     "metadata": {},
     "output_type": "execute_result"
    }
   ],
   "source": [
    "predict_customer"
   ]
  },
  {
   "cell_type": "code",
   "execution_count": 93,
   "metadata": {},
   "outputs": [
    {
     "data": {
      "text/plain": [
       "[Text(0.5,0,'cluster'), Text(0.5,1,'Genral populations by Clusters')]"
      ]
     },
     "execution_count": 93,
     "metadata": {},
     "output_type": "execute_result"
    },
    {
     "data": {
      "image/png": "[encoded data removed]",
      "text/plain": [
       "<matplotlib.figure.Figure at 0x7fd8a8752160>"
      ]
     },
     "metadata": {
      "needs_background": "light"
     },
     "output_type": "display_data"
    }
   ],
   "source": [
    "sns.countplot(x = predict_genral).set(title = 'Genral populations by Clusters', xlabel  = 'cluster' )"
   ]
  },
  {
   "cell_type": "code",
   "execution_count": 94,
   "metadata": {
    "scrolled": true
   },
   "outputs": [
    {
     "data": {
      "text/plain": [
       "[Text(0.5,0,'cluster'), Text(0.5,1,'Customer by Clusters')]"
      ]
     },
     "execution_count": 94,
     "metadata": {},
     "output_type": "execute_result"
    },
    {
     "data": {
      "image/png": "[encoded data removed]",
      "text/plain": [
       "<matplotlib.figure.Figure at 0x7fd8a874dcf8>"
      ]
     },
     "metadata": {
      "needs_background": "light"
     },
     "output_type": "display_data"
    }
   ],
   "source": [
    "sns.countplot(x = predict_customer).set(title = 'Customer by Clusters', xlabel  = 'cluster' )\n"
   ]
  },
  {
   "cell_type": "code",
   "execution_count": 99,
   "metadata": {},
   "outputs": [
    {
     "ename": "AttributeError",
     "evalue": "'numpy.ndarray' object has no attribute 'inverse_transform'",
     "output_type": "error",
     "traceback": [
      "\u001b[0;31m---------------------------------------------------------------------------\u001b[0m",
      "\u001b[0;31mAttributeError\u001b[0m                            Traceback (most recent call last)",
      "\u001b[0;32m<ipython-input-99-97ddafcb9b75>\u001b[0m in \u001b[0;36m<module>\u001b[0;34m()\u001b[0m\n\u001b[1;32m      2\u001b[0m \u001b[0;31m# customer data compared to the general population?\u001b[0m\u001b[0;34m\u001b[0m\u001b[0;34m\u001b[0m\u001b[0m\n\u001b[1;32m      3\u001b[0m \u001b[0;34m\u001b[0m\u001b[0m\n\u001b[0;32m----> 4\u001b[0;31m \u001b[0mcluster_centroid_8\u001b[0m \u001b[0;34m=\u001b[0m \u001b[0mcustomer_scaler\u001b[0m\u001b[0;34m.\u001b[0m\u001b[0minverse_transform\u001b[0m\u001b[0;34m(\u001b[0m\u001b[0mpca_customer\u001b[0m\u001b[0;34m.\u001b[0m\u001b[0minverse_transform\u001b[0m\u001b[0;34m(\u001b[0m\u001b[0mcustomer_cluster\u001b[0m\u001b[0;34m.\u001b[0m\u001b[0mcluster_centers_\u001b[0m\u001b[0;34m[\u001b[0m\u001b[0;36m8\u001b[0m\u001b[0;34m]\u001b[0m\u001b[0;34m)\u001b[0m\u001b[0;34m)\u001b[0m\u001b[0;34m\u001b[0m\u001b[0m\n\u001b[0m",
      "\u001b[0;31mAttributeError\u001b[0m: 'numpy.ndarray' object has no attribute 'inverse_transform'"
     ]
    }
   ],
   "source": [
    "# What kinds of people are part of a cluster that is overrepresented in the\n",
    "# customer data compared to the general population?\n",
    "\n",
    "cluster_centroid_8 = customer_scaler.inverse_transform(pca_customer.inverse_transform(customer_cluster.cluster_centers_[8]))\n",
    "\n"
   ]
  },
  {
   "cell_type": "code",
   "execution_count": null,
   "metadata": {},
   "outputs": [],
   "source": [
    "# What kinds of people are part of a cluster that is underrepresented in the\n",
    "# customer data compared to the general population?\n",
    "\n"
   ]
  },
  {
   "cell_type": "markdown",
   "metadata": {},
   "source": [
    "### Discussion 3.3: Compare Customer Data to Demographics Data\n",
    "\n",
    "(Double-click this cell and replace this text with your own text, reporting findings and conclusions from the clustering analysis. Can we describe segments of the population that are relatively popular with the mail-order company, or relatively unpopular with the company?)"
   ]
  },
  {
   "cell_type": "markdown",
   "metadata": {},
   "source": [
    "> Congratulations on making it this far in the project! Before you finish, make sure to check through the entire notebook from top to bottom to make sure that your analysis follows a logical flow and all of your findings are documented in **Discussion** cells. Once you've checked over all of your work, you should export the notebook as an HTML document to submit for evaluation. You can do this from the menu, navigating to **File -> Download as -> HTML (.html)**. You will submit both that document and this notebook for your project submission."
   ]
  },
  {
   "cell_type": "code",
   "execution_count": null,
   "metadata": {},
   "outputs": [],
   "source": []
  }
 ],
 "metadata": {
  "kernelspec": {
   "display_name": "Python 3",
   "language": "python",
   "name": "python3"
  },
  "language_info": {
   "codemirror_mode": {
    "name": "ipython",
    "version": 3
   },
   "file_extension": ".py",
   "mimetype": "text/x-python",
   "name": "python",
   "nbconvert_exporter": "python",
   "pygments_lexer": "ipython3",
   "version": "3.6.3"
  }
 },
 "nbformat": 4,
 "nbformat_minor": 2
}
